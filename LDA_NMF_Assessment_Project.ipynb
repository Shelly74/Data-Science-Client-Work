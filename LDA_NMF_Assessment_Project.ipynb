{
  "nbformat": 4,
  "nbformat_minor": 0,
  "metadata": {
    "colab": {
      "name": "LDA-NMF-Assessment-Project.ipynb",
      "version": "0.3.2",
      "provenance": [],
      "include_colab_link": true
    },
    "language_info": {
      "codemirror_mode": {
        "name": "ipython",
        "version": 3
      },
      "file_extension": ".py",
      "mimetype": "text/x-python",
      "name": "python",
      "nbconvert_exporter": "python",
      "pygments_lexer": "ipython3",
      "version": "3.6.6"
    },
    "kernelspec": {
      "display_name": "Python 3",
      "language": "python",
      "name": "python3"
    }
  },
  "cells": [
    {
      "cell_type": "markdown",
      "metadata": {
        "id": "view-in-github",
        "colab_type": "text"
      },
      "source": [
        "<a href=\"https://colab.research.google.com/github/Shantanu9326/Data-Science-Portfolio/blob/master/LDA_NMF_Assessment_Project.ipynb\" target=\"_parent\"><img src=\"https://colab.research.google.com/assets/colab-badge.svg\" alt=\"Open In Colab\"/></a>"
      ]
    },
    {
      "cell_type": "markdown",
      "metadata": {
        "collapsed": true,
        "id": "4VloKTlo2XaY",
        "colab_type": "text"
      },
      "source": [
        "# Topic Modeling Assessment on Quora Questions"
      ]
    },
    {
      "cell_type": "markdown",
      "metadata": {
        "id": "BRZv54462XaZ",
        "colab_type": "text"
      },
      "source": [
        "#### Task: Import pandas and read in the quora_questions.csv file."
      ]
    },
    {
      "cell_type": "code",
      "metadata": {
        "id": "MIC_dnfV2XaZ",
        "colab_type": "code",
        "colab": {}
      },
      "source": [
        "import pandas as pd"
      ],
      "execution_count": 0,
      "outputs": []
    },
    {
      "cell_type": "code",
      "metadata": {
        "id": "niMVWH9i2evL",
        "colab_type": "code",
        "outputId": "e5b3b19e-3421-42b0-c203-26b22469e42a",
        "colab": {
          "base_uri": "https://localhost:8080/",
          "height": 34
        }
      },
      "source": [
        "#Running or Importing .py Files with Google Colab\n",
        "from google.colab import drive\n",
        "drive.mount('/content/drive/')"
      ],
      "execution_count": 0,
      "outputs": [
        {
          "output_type": "stream",
          "text": [
            "Drive already mounted at /content/drive/; to attempt to forcibly remount, call drive.mount(\"/content/drive/\", force_remount=True).\n"
          ],
          "name": "stdout"
        }
      ]
    },
    {
      "cell_type": "code",
      "metadata": {
        "id": "udHc-J5J2Xab",
        "colab_type": "code",
        "outputId": "e392072d-bf47-4407-ee35-695d7f6761f4",
        "colab": {
          "base_uri": "https://localhost:8080/",
          "height": 1000
        }
      },
      "source": [
        "quora = pd.read_csv('/content/drive/My Drive/app/quora_questions.csv')\n",
        "quora"
      ],
      "execution_count": 0,
      "outputs": [
        {
          "output_type": "execute_result",
          "data": {
            "text/html": [
              "<div>\n",
              "<style scoped>\n",
              "    .dataframe tbody tr th:only-of-type {\n",
              "        vertical-align: middle;\n",
              "    }\n",
              "\n",
              "    .dataframe tbody tr th {\n",
              "        vertical-align: top;\n",
              "    }\n",
              "\n",
              "    .dataframe thead th {\n",
              "        text-align: right;\n",
              "    }\n",
              "</style>\n",
              "<table border=\"1\" class=\"dataframe\">\n",
              "  <thead>\n",
              "    <tr style=\"text-align: right;\">\n",
              "      <th></th>\n",
              "      <th>Question</th>\n",
              "    </tr>\n",
              "  </thead>\n",
              "  <tbody>\n",
              "    <tr>\n",
              "      <th>0</th>\n",
              "      <td>What is the step by step guide to invest in sh...</td>\n",
              "    </tr>\n",
              "    <tr>\n",
              "      <th>1</th>\n",
              "      <td>What is the story of Kohinoor (Koh-i-Noor) Dia...</td>\n",
              "    </tr>\n",
              "    <tr>\n",
              "      <th>2</th>\n",
              "      <td>How can I increase the speed of my internet co...</td>\n",
              "    </tr>\n",
              "    <tr>\n",
              "      <th>3</th>\n",
              "      <td>Why am I mentally very lonely? How can I solve...</td>\n",
              "    </tr>\n",
              "    <tr>\n",
              "      <th>4</th>\n",
              "      <td>Which one dissolve in water quikly sugar, salt...</td>\n",
              "    </tr>\n",
              "    <tr>\n",
              "      <th>5</th>\n",
              "      <td>Astrology: I am a Capricorn Sun Cap moon and c...</td>\n",
              "    </tr>\n",
              "    <tr>\n",
              "      <th>6</th>\n",
              "      <td>Should I buy tiago?</td>\n",
              "    </tr>\n",
              "    <tr>\n",
              "      <th>7</th>\n",
              "      <td>How can I be a good geologist?</td>\n",
              "    </tr>\n",
              "    <tr>\n",
              "      <th>8</th>\n",
              "      <td>When do you use シ instead of し?</td>\n",
              "    </tr>\n",
              "    <tr>\n",
              "      <th>9</th>\n",
              "      <td>Motorola (company): Can I hack my Charter Moto...</td>\n",
              "    </tr>\n",
              "    <tr>\n",
              "      <th>10</th>\n",
              "      <td>Method to find separation of slits using fresn...</td>\n",
              "    </tr>\n",
              "    <tr>\n",
              "      <th>11</th>\n",
              "      <td>How do I read and find my YouTube comments?</td>\n",
              "    </tr>\n",
              "    <tr>\n",
              "      <th>12</th>\n",
              "      <td>What can make Physics easy to learn?</td>\n",
              "    </tr>\n",
              "    <tr>\n",
              "      <th>13</th>\n",
              "      <td>What was your first sexual experience like?</td>\n",
              "    </tr>\n",
              "    <tr>\n",
              "      <th>14</th>\n",
              "      <td>What are the laws to change your status from a...</td>\n",
              "    </tr>\n",
              "    <tr>\n",
              "      <th>15</th>\n",
              "      <td>What would a Trump presidency mean for current...</td>\n",
              "    </tr>\n",
              "    <tr>\n",
              "      <th>16</th>\n",
              "      <td>What does manipulation mean?</td>\n",
              "    </tr>\n",
              "    <tr>\n",
              "      <th>17</th>\n",
              "      <td>Why do girls want to be friends with the guy t...</td>\n",
              "    </tr>\n",
              "    <tr>\n",
              "      <th>18</th>\n",
              "      <td>Why are so many Quora users posting questions ...</td>\n",
              "    </tr>\n",
              "    <tr>\n",
              "      <th>19</th>\n",
              "      <td>Which is the best digital marketing institutio...</td>\n",
              "    </tr>\n",
              "    <tr>\n",
              "      <th>20</th>\n",
              "      <td>Why do rockets look white?</td>\n",
              "    </tr>\n",
              "    <tr>\n",
              "      <th>21</th>\n",
              "      <td>What's causing someone to be jealous?</td>\n",
              "    </tr>\n",
              "    <tr>\n",
              "      <th>22</th>\n",
              "      <td>What are the questions should not ask on Quora?</td>\n",
              "    </tr>\n",
              "    <tr>\n",
              "      <th>23</th>\n",
              "      <td>How much is 30 kV in HP?</td>\n",
              "    </tr>\n",
              "    <tr>\n",
              "      <th>24</th>\n",
              "      <td>What does it mean that every time I look at th...</td>\n",
              "    </tr>\n",
              "    <tr>\n",
              "      <th>25</th>\n",
              "      <td>What are some tips on making it through the jo...</td>\n",
              "    </tr>\n",
              "    <tr>\n",
              "      <th>26</th>\n",
              "      <td>What is web application?</td>\n",
              "    </tr>\n",
              "    <tr>\n",
              "      <th>27</th>\n",
              "      <td>Does society place too much importance on sports?</td>\n",
              "    </tr>\n",
              "    <tr>\n",
              "      <th>28</th>\n",
              "      <td>What is best way to make money online?</td>\n",
              "    </tr>\n",
              "    <tr>\n",
              "      <th>29</th>\n",
              "      <td>How should I prepare for CA final law?</td>\n",
              "    </tr>\n",
              "    <tr>\n",
              "      <th>...</th>\n",
              "      <td>...</td>\n",
              "    </tr>\n",
              "    <tr>\n",
              "      <th>404259</th>\n",
              "      <td>Which phone is best under 12000?</td>\n",
              "    </tr>\n",
              "    <tr>\n",
              "      <th>404260</th>\n",
              "      <td>Who is the overall most popular Game of Throne...</td>\n",
              "    </tr>\n",
              "    <tr>\n",
              "      <th>404261</th>\n",
              "      <td>How do you troubleshoot a Toshiba laptop?</td>\n",
              "    </tr>\n",
              "    <tr>\n",
              "      <th>404262</th>\n",
              "      <td>How does the burning of fossil fuels contribut...</td>\n",
              "    </tr>\n",
              "    <tr>\n",
              "      <th>404263</th>\n",
              "      <td>Is it safe to store an external battery power ...</td>\n",
              "    </tr>\n",
              "    <tr>\n",
              "      <th>404264</th>\n",
              "      <td>How can I gain weight on my body?</td>\n",
              "    </tr>\n",
              "    <tr>\n",
              "      <th>404265</th>\n",
              "      <td>What is the green dot next to the phone icon o...</td>\n",
              "    </tr>\n",
              "    <tr>\n",
              "      <th>404266</th>\n",
              "      <td>What are the causes of the fall of the Roman E...</td>\n",
              "    </tr>\n",
              "    <tr>\n",
              "      <th>404267</th>\n",
              "      <td>Why don't we still do great music like in the ...</td>\n",
              "    </tr>\n",
              "    <tr>\n",
              "      <th>404268</th>\n",
              "      <td>How do you diagnose antisocial personality dis...</td>\n",
              "    </tr>\n",
              "    <tr>\n",
              "      <th>404269</th>\n",
              "      <td>What is the difference between who and how?</td>\n",
              "    </tr>\n",
              "    <tr>\n",
              "      <th>404270</th>\n",
              "      <td>Does Stalin have any grandchildren that are st...</td>\n",
              "    </tr>\n",
              "    <tr>\n",
              "      <th>404271</th>\n",
              "      <td>What are the best new car products or inventio...</td>\n",
              "    </tr>\n",
              "    <tr>\n",
              "      <th>404272</th>\n",
              "      <td>What happens if you put milk in a coffee maker?</td>\n",
              "    </tr>\n",
              "    <tr>\n",
              "      <th>404273</th>\n",
              "      <td>Will the next generation of parenting change o...</td>\n",
              "    </tr>\n",
              "    <tr>\n",
              "      <th>404274</th>\n",
              "      <td>In accounting, why do we debit expenses and cr...</td>\n",
              "    </tr>\n",
              "    <tr>\n",
              "      <th>404275</th>\n",
              "      <td>What is copilotsearch.com?</td>\n",
              "    </tr>\n",
              "    <tr>\n",
              "      <th>404276</th>\n",
              "      <td>What does analytics do?</td>\n",
              "    </tr>\n",
              "    <tr>\n",
              "      <th>404277</th>\n",
              "      <td>How did you prepare for AIIMS/NEET/AIPMT?</td>\n",
              "    </tr>\n",
              "    <tr>\n",
              "      <th>404278</th>\n",
              "      <td>What is the minimum time required to build a f...</td>\n",
              "    </tr>\n",
              "    <tr>\n",
              "      <th>404279</th>\n",
              "      <td>What are some outfit ideas to wear to a frat p...</td>\n",
              "    </tr>\n",
              "    <tr>\n",
              "      <th>404280</th>\n",
              "      <td>Why is Manaphy childish in Pokémon Ranger and ...</td>\n",
              "    </tr>\n",
              "    <tr>\n",
              "      <th>404281</th>\n",
              "      <td>How does a long distance relationship work?</td>\n",
              "    </tr>\n",
              "    <tr>\n",
              "      <th>404282</th>\n",
              "      <td>What do you think of the removal of the MagSaf...</td>\n",
              "    </tr>\n",
              "    <tr>\n",
              "      <th>404283</th>\n",
              "      <td>What does Jainism say about homosexuality?</td>\n",
              "    </tr>\n",
              "    <tr>\n",
              "      <th>404284</th>\n",
              "      <td>How many keywords are there in the Racket prog...</td>\n",
              "    </tr>\n",
              "    <tr>\n",
              "      <th>404285</th>\n",
              "      <td>Do you believe there is life after death?</td>\n",
              "    </tr>\n",
              "    <tr>\n",
              "      <th>404286</th>\n",
              "      <td>What is one coin?</td>\n",
              "    </tr>\n",
              "    <tr>\n",
              "      <th>404287</th>\n",
              "      <td>What is the approx annual cost of living while...</td>\n",
              "    </tr>\n",
              "    <tr>\n",
              "      <th>404288</th>\n",
              "      <td>What is like to have sex with cousin?</td>\n",
              "    </tr>\n",
              "  </tbody>\n",
              "</table>\n",
              "<p>404289 rows × 1 columns</p>\n",
              "</div>"
            ],
            "text/plain": [
              "                                                 Question\n",
              "0       What is the step by step guide to invest in sh...\n",
              "1       What is the story of Kohinoor (Koh-i-Noor) Dia...\n",
              "2       How can I increase the speed of my internet co...\n",
              "3       Why am I mentally very lonely? How can I solve...\n",
              "4       Which one dissolve in water quikly sugar, salt...\n",
              "5       Astrology: I am a Capricorn Sun Cap moon and c...\n",
              "6                                     Should I buy tiago?\n",
              "7                          How can I be a good geologist?\n",
              "8                         When do you use シ instead of し?\n",
              "9       Motorola (company): Can I hack my Charter Moto...\n",
              "10      Method to find separation of slits using fresn...\n",
              "11            How do I read and find my YouTube comments?\n",
              "12                   What can make Physics easy to learn?\n",
              "13            What was your first sexual experience like?\n",
              "14      What are the laws to change your status from a...\n",
              "15      What would a Trump presidency mean for current...\n",
              "16                           What does manipulation mean?\n",
              "17      Why do girls want to be friends with the guy t...\n",
              "18      Why are so many Quora users posting questions ...\n",
              "19      Which is the best digital marketing institutio...\n",
              "20                             Why do rockets look white?\n",
              "21                  What's causing someone to be jealous?\n",
              "22        What are the questions should not ask on Quora?\n",
              "23                               How much is 30 kV in HP?\n",
              "24      What does it mean that every time I look at th...\n",
              "25      What are some tips on making it through the jo...\n",
              "26                               What is web application?\n",
              "27      Does society place too much importance on sports?\n",
              "28                 What is best way to make money online?\n",
              "29                 How should I prepare for CA final law?\n",
              "...                                                   ...\n",
              "404259                   Which phone is best under 12000?\n",
              "404260  Who is the overall most popular Game of Throne...\n",
              "404261          How do you troubleshoot a Toshiba laptop?\n",
              "404262  How does the burning of fossil fuels contribut...\n",
              "404263  Is it safe to store an external battery power ...\n",
              "404264                  How can I gain weight on my body?\n",
              "404265  What is the green dot next to the phone icon o...\n",
              "404266  What are the causes of the fall of the Roman E...\n",
              "404267  Why don't we still do great music like in the ...\n",
              "404268  How do you diagnose antisocial personality dis...\n",
              "404269        What is the difference between who and how?\n",
              "404270  Does Stalin have any grandchildren that are st...\n",
              "404271  What are the best new car products or inventio...\n",
              "404272    What happens if you put milk in a coffee maker?\n",
              "404273  Will the next generation of parenting change o...\n",
              "404274  In accounting, why do we debit expenses and cr...\n",
              "404275                         What is copilotsearch.com?\n",
              "404276                            What does analytics do?\n",
              "404277          How did you prepare for AIIMS/NEET/AIPMT?\n",
              "404278  What is the minimum time required to build a f...\n",
              "404279  What are some outfit ideas to wear to a frat p...\n",
              "404280  Why is Manaphy childish in Pokémon Ranger and ...\n",
              "404281        How does a long distance relationship work?\n",
              "404282  What do you think of the removal of the MagSaf...\n",
              "404283         What does Jainism say about homosexuality?\n",
              "404284  How many keywords are there in the Racket prog...\n",
              "404285          Do you believe there is life after death?\n",
              "404286                                  What is one coin?\n",
              "404287  What is the approx annual cost of living while...\n",
              "404288              What is like to have sex with cousin?\n",
              "\n",
              "[404289 rows x 1 columns]"
            ]
          },
          "metadata": {
            "tags": []
          },
          "execution_count": 9
        }
      ]
    },
    {
      "cell_type": "code",
      "metadata": {
        "id": "Yp6SQrxf2Xad",
        "colab_type": "code",
        "outputId": "b2c5ad9d-38cc-431c-edaa-f1d546fd2964",
        "colab": {
          "base_uri": "https://localhost:8080/",
          "height": 204
        }
      },
      "source": [
        "quora.head()"
      ],
      "execution_count": 0,
      "outputs": [
        {
          "output_type": "execute_result",
          "data": {
            "text/html": [
              "<div>\n",
              "<style scoped>\n",
              "    .dataframe tbody tr th:only-of-type {\n",
              "        vertical-align: middle;\n",
              "    }\n",
              "\n",
              "    .dataframe tbody tr th {\n",
              "        vertical-align: top;\n",
              "    }\n",
              "\n",
              "    .dataframe thead th {\n",
              "        text-align: right;\n",
              "    }\n",
              "</style>\n",
              "<table border=\"1\" class=\"dataframe\">\n",
              "  <thead>\n",
              "    <tr style=\"text-align: right;\">\n",
              "      <th></th>\n",
              "      <th>Question</th>\n",
              "    </tr>\n",
              "  </thead>\n",
              "  <tbody>\n",
              "    <tr>\n",
              "      <th>0</th>\n",
              "      <td>What is the step by step guide to invest in sh...</td>\n",
              "    </tr>\n",
              "    <tr>\n",
              "      <th>1</th>\n",
              "      <td>What is the story of Kohinoor (Koh-i-Noor) Dia...</td>\n",
              "    </tr>\n",
              "    <tr>\n",
              "      <th>2</th>\n",
              "      <td>How can I increase the speed of my internet co...</td>\n",
              "    </tr>\n",
              "    <tr>\n",
              "      <th>3</th>\n",
              "      <td>Why am I mentally very lonely? How can I solve...</td>\n",
              "    </tr>\n",
              "    <tr>\n",
              "      <th>4</th>\n",
              "      <td>Which one dissolve in water quikly sugar, salt...</td>\n",
              "    </tr>\n",
              "  </tbody>\n",
              "</table>\n",
              "</div>"
            ],
            "text/plain": [
              "                                            Question\n",
              "0  What is the step by step guide to invest in sh...\n",
              "1  What is the story of Kohinoor (Koh-i-Noor) Dia...\n",
              "2  How can I increase the speed of my internet co...\n",
              "3  Why am I mentally very lonely? How can I solve...\n",
              "4  Which one dissolve in water quikly sugar, salt..."
            ]
          },
          "metadata": {
            "tags": []
          },
          "execution_count": 10
        }
      ]
    },
    {
      "cell_type": "code",
      "metadata": {
        "id": "lEA02LK323mU",
        "colab_type": "code",
        "outputId": "fd4fb574-3f1a-40d6-9b7f-59f3e61c238d",
        "colab": {
          "base_uri": "https://localhost:8080/",
          "height": 34
        }
      },
      "source": [
        "len(quora)"
      ],
      "execution_count": 0,
      "outputs": [
        {
          "output_type": "execute_result",
          "data": {
            "text/plain": [
              "404289"
            ]
          },
          "metadata": {
            "tags": []
          },
          "execution_count": 12
        }
      ]
    },
    {
      "cell_type": "markdown",
      "metadata": {
        "id": "0Y343fMs2Xag",
        "colab_type": "text"
      },
      "source": [
        "# Preprocessing\n",
        "\n",
        "#### Task: Use TF-IDF Vectorization to create a vectorized document term matrix. You may want to explore the max_df and min_df parameters."
      ]
    },
    {
      "cell_type": "code",
      "metadata": {
        "id": "kzrf0HQn2Xag",
        "colab_type": "code",
        "colab": {}
      },
      "source": [
        "from sklearn.feature_extraction.text import TfidfVectorizer"
      ],
      "execution_count": 0,
      "outputs": []
    },
    {
      "cell_type": "code",
      "metadata": {
        "id": "U8wbdnz63ErE",
        "colab_type": "code",
        "colab": {}
      },
      "source": [
        "?TfidfVectorizer"
      ],
      "execution_count": 0,
      "outputs": []
    },
    {
      "cell_type": "code",
      "metadata": {
        "id": "K6Ry3vx12Xai",
        "colab_type": "code",
        "colab": {}
      },
      "source": [
        "tfidf = TfidfVectorizer(max_df=0.95, min_df=2, stop_words='english')"
      ],
      "execution_count": 0,
      "outputs": []
    },
    {
      "cell_type": "code",
      "metadata": {
        "id": "3y33cwll2Xak",
        "colab_type": "code",
        "colab": {}
      },
      "source": [
        "dtm = tfidf.fit_transform(quora['Question'])"
      ],
      "execution_count": 0,
      "outputs": []
    },
    {
      "cell_type": "code",
      "metadata": {
        "id": "OCFFD-B42Xal",
        "colab_type": "code",
        "outputId": "6166ba87-4dba-4304-8eac-35353ff1a4ff",
        "colab": {
          "base_uri": "https://localhost:8080/",
          "height": 51
        }
      },
      "source": [
        "dtm"
      ],
      "execution_count": 0,
      "outputs": [
        {
          "output_type": "execute_result",
          "data": {
            "text/plain": [
              "<404289x38669 sparse matrix of type '<class 'numpy.float64'>'\n",
              "\twith 2002912 stored elements in Compressed Sparse Row format>"
            ]
          },
          "metadata": {
            "tags": []
          },
          "execution_count": 17
        }
      ]
    },
    {
      "cell_type": "markdown",
      "metadata": {
        "id": "HjNTMw1H2Xap",
        "colab_type": "text"
      },
      "source": [
        "# Non-Negative Matrix Factorization\n",
        "\n",
        "#### TASK: Using Scikit-Learn create an instance of NMF with 20 expected components. (Use random_state=42).."
      ]
    },
    {
      "cell_type": "code",
      "metadata": {
        "id": "pLQlfSMs2Xap",
        "colab_type": "code",
        "colab": {}
      },
      "source": [
        "from sklearn.decomposition import NMF"
      ],
      "execution_count": 0,
      "outputs": []
    },
    {
      "cell_type": "code",
      "metadata": {
        "id": "t9TC4Uug3deO",
        "colab_type": "code",
        "colab": {}
      },
      "source": [
        "?NMF"
      ],
      "execution_count": 0,
      "outputs": []
    },
    {
      "cell_type": "code",
      "metadata": {
        "id": "Ek9MAyq62Xar",
        "colab_type": "code",
        "colab": {}
      },
      "source": [
        "nmf_model = NMF(n_components=20,random_state=42)"
      ],
      "execution_count": 0,
      "outputs": []
    },
    {
      "cell_type": "code",
      "metadata": {
        "id": "uKT7m-Ej2Xat",
        "colab_type": "code",
        "outputId": "57b2bf57-413b-4b1b-9563-dfa8034d3712",
        "colab": {
          "base_uri": "https://localhost:8080/",
          "height": 68
        }
      },
      "source": [
        "nmf_model.fit(dtm)"
      ],
      "execution_count": 0,
      "outputs": [
        {
          "output_type": "execute_result",
          "data": {
            "text/plain": [
              "NMF(alpha=0.0, beta_loss='frobenius', init=None, l1_ratio=0.0, max_iter=200,\n",
              "    n_components=20, random_state=42, shuffle=False, solver='cd', tol=0.0001,\n",
              "    verbose=0)"
            ]
          },
          "metadata": {
            "tags": []
          },
          "execution_count": 22
        }
      ]
    },
    {
      "cell_type": "markdown",
      "metadata": {
        "id": "AL9G8voh2Xav",
        "colab_type": "text"
      },
      "source": [
        "#### TASK: Print our the top 15 most common words for each of the 20 topics."
      ]
    },
    {
      "cell_type": "code",
      "metadata": {
        "id": "8sigQQ042Xaw",
        "colab_type": "code",
        "outputId": "64340943-b533-4ea9-ad97-ab2b2f8c0016",
        "colab": {
          "base_uri": "https://localhost:8080/",
          "height": 1000
        }
      },
      "source": [
        "for index,topic in enumerate(nmf_model.components_):\n",
        "    print(f'THE TOP 15 WORDS FOR TOPIC #{index}')\n",
        "    print([tfidf.get_feature_names()[i] for i in topic.argsort()[-15:]])\n",
        "    print('\\n')"
      ],
      "execution_count": 0,
      "outputs": [
        {
          "output_type": "stream",
          "text": [
            "THE TOP 15 WORDS FOR TOPIC #0\n",
            "['thing', 'read', 'place', 'visit', 'places', 'phone', 'buy', 'laptop', 'movie', 'ways', '2016', 'books', 'book', 'movies', 'best']\n",
            "\n",
            "\n",
            "THE TOP 15 WORDS FOR TOPIC #1\n",
            "['majors', 'recruit', 'sex', 'looking', 'differ', 'use', 'exist', 'really', 'compare', 'cost', 'long', 'feel', 'work', 'mean', 'does']\n",
            "\n",
            "\n",
            "THE TOP 15 WORDS FOR TOPIC #2\n",
            "['add', 'answered', 'needing', 'post', 'easily', 'improvement', 'delete', 'asked', 'google', 'answers', 'answer', 'ask', 'question', 'questions', 'quora']\n",
            "\n",
            "\n",
            "THE TOP 15 WORDS FOR TOPIC #3\n",
            "['using', 'website', 'investment', 'friends', 'black', 'internet', 'free', 'home', 'easy', 'youtube', 'ways', 'earn', 'online', 'make', 'money']\n",
            "\n",
            "\n",
            "THE TOP 15 WORDS FOR TOPIC #4\n",
            "['balance', 'earth', 'day', 'death', 'changed', 'live', 'want', 'change', 'moment', 'real', 'important', 'thing', 'meaning', 'purpose', 'life']\n",
            "\n",
            "\n",
            "THE TOP 15 WORDS FOR TOPIC #5\n",
            "['reservation', 'engineering', 'minister', 'president', 'company', 'china', 'business', 'country', 'olympics', 'available', 'job', 'spotify', 'war', 'pakistan', 'india']\n",
            "\n",
            "\n",
            "THE TOP 15 WORDS FOR TOPIC #6\n",
            "['beginners', 'online', 'english', 'book', 'did', 'hacking', 'want', 'python', 'languages', 'java', 'learning', 'start', 'language', 'programming', 'learn']\n",
            "\n",
            "\n",
            "THE TOP 15 WORDS FOR TOPIC #7\n",
            "['happen', 'presidency', 'think', 'presidential', '2016', 'vote', 'better', 'election', 'did', 'win', 'hillary', 'president', 'clinton', 'donald', 'trump']\n",
            "\n",
            "\n",
            "THE TOP 15 WORDS FOR TOPIC #8\n",
            "['russia', 'business', 'win', 'coming', 'countries', 'place', 'pakistan', 'happen', 'end', 'country', 'iii', 'start', 'did', 'war', 'world']\n",
            "\n",
            "\n",
            "THE TOP 15 WORDS FOR TOPIC #9\n",
            "['indian', 'companies', 'don', 'guy', 'men', 'culture', 'women', 'work', 'girls', 'live', 'girl', 'look', 'sex', 'feel', 'like']\n",
            "\n",
            "\n",
            "THE TOP 15 WORDS FOR TOPIC #10\n",
            "['ca', 'departments', 'positions', 'movies', 'songs', 'business', 'read', 'start', 'job', 'work', 'engineering', 'ways', 'bad', 'books', 'good']\n",
            "\n",
            "\n",
            "THE TOP 15 WORDS FOR TOPIC #11\n",
            "['money', 'modi', 'currency', 'economy', 'think', 'government', 'ban', 'banning', 'black', 'indian', 'rupee', 'rs', '1000', 'notes', '500']\n",
            "\n",
            "\n",
            "THE TOP 15 WORDS FOR TOPIC #12\n",
            "['blowing', 'resolutions', 'resolution', 'mind', 'likes', 'girl', '2017', 'year', 'don', 'employees', 'going', 'day', 'things', 'new', 'know']\n",
            "\n",
            "\n",
            "THE TOP 15 WORDS FOR TOPIC #13\n",
            "['aspects', 'fluent', 'skill', 'spoken', 'ways', 'language', 'fluently', 'speak', 'communication', 'pronunciation', 'speaking', 'writing', 'skills', 'improve', 'english']\n",
            "\n",
            "\n",
            "THE TOP 15 WORDS FOR TOPIC #14\n",
            "['diet', 'help', 'healthy', 'exercise', 'month', 'pounds', 'reduce', 'quickly', 'loss', 'fast', 'fat', 'ways', 'gain', 'lose', 'weight']\n",
            "\n",
            "\n",
            "THE TOP 15 WORDS FOR TOPIC #15\n",
            "['having', 'feel', 'long', 'spend', 'did', 'person', 'machine', 'movies', 'favorite', 'job', 'home', 'sex', 'possible', 'travel', 'time']\n",
            "\n",
            "\n",
            "THE TOP 15 WORDS FOR TOPIC #16\n",
            "['marriage', 'make', 'did', 'girlfriend', 'feel', 'tell', 'forget', 'really', 'friend', 'true', 'know', 'person', 'girl', 'fall', 'love']\n",
            "\n",
            "\n",
            "THE TOP 15 WORDS FOR TOPIC #17\n",
            "['easy', 'hack', 'prepare', 'quickest', 'facebook', 'increase', 'painless', 'instagram', 'account', 'best', 'commit', 'fastest', 'suicide', 'easiest', 'way']\n",
            "\n",
            "\n",
            "THE TOP 15 WORDS FOR TOPIC #18\n",
            "['web', 'java', 'scripting', 'phone', 'mechanical', 'better', 'job', 'use', 'account', 'data', 'software', 'science', 'computer', 'engineering', 'difference']\n",
            "\n",
            "\n",
            "THE TOP 15 WORDS FOR TOPIC #19\n",
            "['earth', 'blowing', 'stop', 'use', 'easily', 'mind', 'google', 'flat', 'questions', 'hate', 'believe', 'ask', 'don', 'think', 'people']\n",
            "\n",
            "\n"
          ],
          "name": "stdout"
        }
      ]
    },
    {
      "cell_type": "markdown",
      "metadata": {
        "id": "PPcdAFaP2Xay",
        "colab_type": "text"
      },
      "source": [
        "#### TASK: Add a new column to the original quora dataframe that labels each question into one of the 20 topic categories."
      ]
    },
    {
      "cell_type": "code",
      "metadata": {
        "id": "IO8lTwGN2Xay",
        "colab_type": "code",
        "outputId": "8fff9dfe-7ec2-4051-f4bd-7d7a4ef493fd",
        "colab": {
          "base_uri": "https://localhost:8080/",
          "height": 204
        }
      },
      "source": [
        "quora.head()"
      ],
      "execution_count": 0,
      "outputs": [
        {
          "output_type": "execute_result",
          "data": {
            "text/html": [
              "<div>\n",
              "<style scoped>\n",
              "    .dataframe tbody tr th:only-of-type {\n",
              "        vertical-align: middle;\n",
              "    }\n",
              "\n",
              "    .dataframe tbody tr th {\n",
              "        vertical-align: top;\n",
              "    }\n",
              "\n",
              "    .dataframe thead th {\n",
              "        text-align: right;\n",
              "    }\n",
              "</style>\n",
              "<table border=\"1\" class=\"dataframe\">\n",
              "  <thead>\n",
              "    <tr style=\"text-align: right;\">\n",
              "      <th></th>\n",
              "      <th>Question</th>\n",
              "    </tr>\n",
              "  </thead>\n",
              "  <tbody>\n",
              "    <tr>\n",
              "      <th>0</th>\n",
              "      <td>What is the step by step guide to invest in sh...</td>\n",
              "    </tr>\n",
              "    <tr>\n",
              "      <th>1</th>\n",
              "      <td>What is the story of Kohinoor (Koh-i-Noor) Dia...</td>\n",
              "    </tr>\n",
              "    <tr>\n",
              "      <th>2</th>\n",
              "      <td>How can I increase the speed of my internet co...</td>\n",
              "    </tr>\n",
              "    <tr>\n",
              "      <th>3</th>\n",
              "      <td>Why am I mentally very lonely? How can I solve...</td>\n",
              "    </tr>\n",
              "    <tr>\n",
              "      <th>4</th>\n",
              "      <td>Which one dissolve in water quikly sugar, salt...</td>\n",
              "    </tr>\n",
              "  </tbody>\n",
              "</table>\n",
              "</div>"
            ],
            "text/plain": [
              "                                            Question\n",
              "0  What is the step by step guide to invest in sh...\n",
              "1  What is the story of Kohinoor (Koh-i-Noor) Dia...\n",
              "2  How can I increase the speed of my internet co...\n",
              "3  Why am I mentally very lonely? How can I solve...\n",
              "4  Which one dissolve in water quikly sugar, salt..."
            ]
          },
          "metadata": {
            "tags": []
          },
          "execution_count": 24
        }
      ]
    },
    {
      "cell_type": "code",
      "metadata": {
        "id": "RvlBn4A_2Xa0",
        "colab_type": "code",
        "colab": {}
      },
      "source": [
        "topic_results = nmf_model.transform(dtm)"
      ],
      "execution_count": 0,
      "outputs": []
    },
    {
      "cell_type": "code",
      "metadata": {
        "id": "WmFmF0Bj2Xa2",
        "colab_type": "code",
        "outputId": "4cccf8f8-eae9-48e1-c7a2-4ceb13625fb8",
        "colab": {
          "base_uri": "https://localhost:8080/",
          "height": 359
        }
      },
      "source": [
        "topic_results.argmax(axis=1)\n",
        "\n",
        "quora['Topic'] = topic_results.argmax(axis=1)\n",
        "\n",
        "quora.head(10)"
      ],
      "execution_count": 0,
      "outputs": [
        {
          "output_type": "execute_result",
          "data": {
            "text/html": [
              "<div>\n",
              "<style scoped>\n",
              "    .dataframe tbody tr th:only-of-type {\n",
              "        vertical-align: middle;\n",
              "    }\n",
              "\n",
              "    .dataframe tbody tr th {\n",
              "        vertical-align: top;\n",
              "    }\n",
              "\n",
              "    .dataframe thead th {\n",
              "        text-align: right;\n",
              "    }\n",
              "</style>\n",
              "<table border=\"1\" class=\"dataframe\">\n",
              "  <thead>\n",
              "    <tr style=\"text-align: right;\">\n",
              "      <th></th>\n",
              "      <th>Question</th>\n",
              "      <th>Topic</th>\n",
              "    </tr>\n",
              "  </thead>\n",
              "  <tbody>\n",
              "    <tr>\n",
              "      <th>0</th>\n",
              "      <td>What is the step by step guide to invest in sh...</td>\n",
              "      <td>5</td>\n",
              "    </tr>\n",
              "    <tr>\n",
              "      <th>1</th>\n",
              "      <td>What is the story of Kohinoor (Koh-i-Noor) Dia...</td>\n",
              "      <td>16</td>\n",
              "    </tr>\n",
              "    <tr>\n",
              "      <th>2</th>\n",
              "      <td>How can I increase the speed of my internet co...</td>\n",
              "      <td>17</td>\n",
              "    </tr>\n",
              "    <tr>\n",
              "      <th>3</th>\n",
              "      <td>Why am I mentally very lonely? How can I solve...</td>\n",
              "      <td>11</td>\n",
              "    </tr>\n",
              "    <tr>\n",
              "      <th>4</th>\n",
              "      <td>Which one dissolve in water quikly sugar, salt...</td>\n",
              "      <td>14</td>\n",
              "    </tr>\n",
              "    <tr>\n",
              "      <th>5</th>\n",
              "      <td>Astrology: I am a Capricorn Sun Cap moon and c...</td>\n",
              "      <td>1</td>\n",
              "    </tr>\n",
              "    <tr>\n",
              "      <th>6</th>\n",
              "      <td>Should I buy tiago?</td>\n",
              "      <td>0</td>\n",
              "    </tr>\n",
              "    <tr>\n",
              "      <th>7</th>\n",
              "      <td>How can I be a good geologist?</td>\n",
              "      <td>10</td>\n",
              "    </tr>\n",
              "    <tr>\n",
              "      <th>8</th>\n",
              "      <td>When do you use シ instead of し?</td>\n",
              "      <td>19</td>\n",
              "    </tr>\n",
              "    <tr>\n",
              "      <th>9</th>\n",
              "      <td>Motorola (company): Can I hack my Charter Moto...</td>\n",
              "      <td>17</td>\n",
              "    </tr>\n",
              "  </tbody>\n",
              "</table>\n",
              "</div>"
            ],
            "text/plain": [
              "                                            Question  Topic\n",
              "0  What is the step by step guide to invest in sh...      5\n",
              "1  What is the story of Kohinoor (Koh-i-Noor) Dia...     16\n",
              "2  How can I increase the speed of my internet co...     17\n",
              "3  Why am I mentally very lonely? How can I solve...     11\n",
              "4  Which one dissolve in water quikly sugar, salt...     14\n",
              "5  Astrology: I am a Capricorn Sun Cap moon and c...      1\n",
              "6                                Should I buy tiago?      0\n",
              "7                     How can I be a good geologist?     10\n",
              "8                    When do you use シ instead of し?     19\n",
              "9  Motorola (company): Can I hack my Charter Moto...     17"
            ]
          },
          "metadata": {
            "tags": []
          },
          "execution_count": 26
        }
      ]
    },
    {
      "cell_type": "markdown",
      "metadata": {
        "id": "gfk1I8Ua2Xa4",
        "colab_type": "text"
      },
      "source": [
        "# Great job!"
      ]
    }
  ]
}