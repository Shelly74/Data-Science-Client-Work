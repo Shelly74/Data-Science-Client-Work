{
  "nbformat": 4,
  "nbformat_minor": 0,
  "metadata": {
    "colab": {
      "name": "Text Summarization.ipynb",
      "version": "0.3.2",
      "provenance": [],
      "include_colab_link": true
    },
    "kernelspec": {
      "name": "python3",
      "display_name": "Python 3"
    }
  },
  "cells": [
    {
      "cell_type": "markdown",
      "metadata": {
        "id": "view-in-github",
        "colab_type": "text"
      },
      "source": [
        "<a href=\"https://colab.research.google.com/github/Shantanu9326/Data-Science-Portfolio/blob/master/Text_Summarization.ipynb\" target=\"_parent\"><img src=\"https://colab.research.google.com/assets/colab-badge.svg\" alt=\"Open In Colab\"/></a>"
      ]
    },
    {
      "cell_type": "markdown",
      "metadata": {
        "id": "3BAFpduLXdsq",
        "colab_type": "text"
      },
      "source": [
        "## Text Summarization using Natural Language Processing(NLP)"
      ]
    },
    {
      "cell_type": "code",
      "metadata": {
        "id": "_-CrmHIIXNQc",
        "colab_type": "code",
        "outputId": "745b4be6-e224-4b65-a4d3-bb023bbd714a",
        "colab": {
          "base_uri": "https://localhost:8080/",
          "height": 34
        }
      },
      "source": [
        "# Install BeautifulSoup 4\n",
        "pip install beautifulsoup4"
      ],
      "execution_count": 0,
      "outputs": [
        {
          "output_type": "stream",
          "text": [
            "Requirement already satisfied: beautifulsoup4 in /usr/local/lib/python3.6/dist-packages (4.6.3)\n"
          ],
          "name": "stdout"
        }
      ]
    },
    {
      "cell_type": "code",
      "metadata": {
        "id": "0WXdiymKXO-i",
        "colab_type": "code",
        "outputId": "9fe758ca-c62b-42e2-ee30-619d78184455",
        "colab": {
          "base_uri": "https://localhost:8080/",
          "height": 34
        }
      },
      "source": [
        "# Install lxml \n",
        "pip install lxml"
      ],
      "execution_count": 0,
      "outputs": [
        {
          "output_type": "stream",
          "text": [
            "Requirement already satisfied: lxml in /usr/local/lib/python3.6/dist-packages (4.2.6)\n"
          ],
          "name": "stdout"
        }
      ]
    },
    {
      "cell_type": "code",
      "metadata": {
        "id": "rOd2DBIdrc31",
        "colab_type": "code",
        "colab": {}
      },
      "source": [
        "# Importing the libraries\n",
        "import bs4 as bs\n",
        "import urllib.request\n",
        "\n",
        "# Gettings the data source\n",
        "source = urllib.request.urlopen('https://en.wikipedia.org/wiki/Global_warming').read()\n",
        "\n",
        "# Parsing the data/ creating BeautifulSoup object\n",
        "soup = bs.BeautifulSoup(source,'lxml')"
      ],
      "execution_count": 0,
      "outputs": []
    },
    {
      "cell_type": "code",
      "metadata": {
        "id": "zPNUT6Umrhyv",
        "colab_type": "code",
        "colab": {}
      },
      "source": [
        "import re\n",
        "# Fetching the data\n",
        "text = \"\"\n",
        "for paragraph in soup.find_all('p'):\n",
        "    text += paragraph.text\n",
        "\n",
        "# Preprocessing the data\n",
        "text = re.sub(r'\\[[0-9]*\\]',' ',text)\n",
        "text = re.sub(r'\\s+',' ',text)"
      ],
      "execution_count": 0,
      "outputs": []
    },
    {
      "cell_type": "code",
      "metadata": {
        "id": "J4L-oY0sroMn",
        "colab_type": "code",
        "colab": {}
      },
      "source": [
        "# Preprocessing the data\n",
        "text = re.sub(r'\\[[0-9]*\\]',' ',text)\n",
        "text = re.sub(r'\\s+',' ',text)\n",
        "clean_text = text.lower()\n",
        "clean_text = re.sub(r'\\W',' ',clean_text)\n",
        "clean_text = re.sub(r'\\d',' ',clean_text)\n",
        "clean_text = re.sub(r'\\s+',' ',clean_text)"
      ],
      "execution_count": 0,
      "outputs": []
    },
    {
      "cell_type": "code",
      "metadata": {
        "id": "yBHXu9bzX3hc",
        "colab_type": "code",
        "outputId": "f0836a61-d165-47c3-ff0e-3ad1567a50aa",
        "colab": {
          "base_uri": "https://localhost:8080/",
          "height": 54
        }
      },
      "source": [
        "text"
      ],
      "execution_count": 0,
      "outputs": [
        {
          "output_type": "execute_result",
          "data": {
            "text/plain": [
              "' Global warming is a long-term rise in the average temperature of the Earth\\'s climate system; an aspect of climate change shown by temperature measurements and by multiple effects of the warming. Though earlier geological periods also experienced episodes of warming, the term commonly refers to the observed and continuing increase in average air and ocean temperatures since 1900 caused mainly by emissions of greenhouse gases (GHGs) in the modern industrial economy. In the modern context the terms global warming and climate change are commonly used interchangeably, but climate change includes both global warming and its effects, such as changes to precipitation and impacts that differ by region. Many of the observed changes in climate since the 1950s are unprecedented in the instrumental temperature record, and in historical and paleoclimate proxy records of climate change over thousands to millions of years. In 2013, the Intergovernmental Panel on Climate Change (IPCC) Fifth Assessment Report concluded, \"It is extremely likely that human influence has been the dominant cause of the observed warming since the mid-20th century.\" The largest human influence has been the emission of greenhouse gases such as carbon dioxide, methane, and nitrous oxide. Climate model projections summarized in the report indicated that during the 21st century, the global surface temperature is likely to rise a further 0.3 to 1.7 °C (0.5 to 3.1 °F) in a moderate scenario, or as much as 2.6 to 4.8 °C (4.7 to 8.6 °F) in an extreme scenario, depending on the rate of future greenhouse gas emissions and on climate feedback effects. These findings have been recognized by the national science academies of the major industrialized nations [a] and are not disputed by any scientific body of national or international standing. Effects of global warming include rising sea levels, regional changes in precipitation, more frequent extreme weather events such as heat waves, and expansion of deserts. Surface temperature increases are greatest in the Arctic, with the continuing retreat of glaciers, permafrost, and sea ice. Overall, higher temperatures bring more rain and snowfall, but for some regions droughts and wildfires increase instead. Climate change impacts humans by, amongst other things, threatening food security from decreasing crop yields, and the abandonment of populated areas and damage to infrastructure due to rising sea levels. Environmental impacts include the extinction or relocation of ecosystems as they adapt to climate change, with coral reefs, mountain ecosystems, and Arctic ecosystems most immediately threatened. Because the climate system has a large \"inertia\" and greenhouse gases will remain in the atmosphere for a long time, climatic changes and their effects will continue to become more pronounced for many centuries even if further increases to greenhouse gases stop. Globally, a majority of people consider global warming a serious or very serious issue. Possible societal responses to global warming include mitigation by emissions reduction, adaptation to its effects, and possible future climate engineering. Every country in the world is a party to the United Nations Framework Convention on Climate Change (UNFCCC), whose ultimate objective is to prevent dangerous anthropogenic climate change. Parties to the UNFCCC have agreed that deep cuts in emissions are required and that global warming should be limited to well below 2 °C (3.6 °F) compared to pre-industrial levels,[b] with efforts made to limit warming to 1.5 °C (2.7 °F). Some scientists call into question climate adaptation feasibility, with higher emissions scenarios, or the two degree temperature target Multiple independently produced datasets confirm that between 1880 and 2012, the global average (land and ocean) surface temperature increased by 0.85 [0.65 to 1.06] °C. Currently, surface temperature rise with about 0.2 °C degrees per decade. Since 1950, the number of cold days and nights have decreased, and the number of warm days and night have increased. These trends can be compared to historical temperature trends: patterns of warming and cooling like the Medieval Climate Anomaly and the Little Ice Age were not as synchronous as current warming, but did reach temperatures as high as late-20th century regionally. Although the increase of the average near-surface atmospheric temperature is commonly used to track global warming, over 90% of the additional energy stored in the climate system over the last 50 years is in warmer ocean water. The rest has melted ice and warmed the continents and the atmosphere. Melting ice (including Arctic sea ice, ice sheets and glaciers) and warming of the continents and atmosphere account for the remainder of the change in energy.\" The warming evident in the instrumental temperature record is consistent with a wide range of observations, documented by many independent scientific groups, for example in most continental regions the frequency and intensity of heavy precipitation has increased. Further examples include sea level rise, widespread melting of snow and land ice, increased heat content of the oceans, increased humidity, and the earlier timing of spring events, such as the flowering of plants. Global warming refers to global averages, with the amount of warming varying by region. Since 1979, global average land temperatures have increased about twice as fast as global average ocean temperatures. [needs update?] This is due to the larger heat capacity of the oceans and because oceans lose more heat by evaporation. Where greenhouse gas emissions occur does not impact the location of warming because the major greenhouse gases persist long enough to diffuse across the planet, although localized black carbon deposits on snow and ice do contribute to Arctic warming. The Northern Hemisphere and North Pole have heated much faster than the South Pole and Southern Hemisphere. The Northern Hemisphere not only has much more land, its arrangement around the Arctic Ocean has resulted in the maximum surface area flipping from reflective snow and ice cover to ocean and land surfaces that absorb more sunlight. Arctic temperatures have increased and are predicted to continue to increase during this century at over twice the rate of the rest of the world. [needs update?] As the temperature difference between the Arctic and the equator decreases ocean currents that are driven by that temperature difference, like the Gulf Stream, are weakening. Because the climate system has large thermal inertia, it can take centuries for the climate to fully adjust. While record-breaking years attract considerable public interest, individual years are less significant than the overall trend. Global surface temperature is subject to short-term fluctuations that overlay long-term trends, and can temporarily mask or magnify them. An example of such an episode is the slower rate of surface temperature increase from 1998 to 2012, which was dubbed the global warming hiatus by the media and some scientists. Throughout this period ocean heat storage continued to progress steadily upwards, and in subsequent years surface temperatures have spiked upwards. The slower pace of warming can be attributed to heating and cooling in the Pacific Ocean from natural variability such as El Niño and La Nina events, reduced solar activity, and a number of volcanic eruptions that inserted sunlight-reflecting particles into the atmosphere. By itself, the climate system may generate changes in global temperatures for years (such as the El Niño–Southern Oscillation) to decades or centuries at a time. Other changes emanate from so-called external forcings. These forcings are \"external\" to the climate system, but not necessarily external to Earth. Examples of external forcings include changes in the composition of the atmosphere (e.g., increased concentrations of greenhouse gases), solar luminosity, volcanic eruptions, and variations in Earth\\'s orbit around the Sun. Attributing detected temperature changes and extreme events to man-made increases in greenhouse gases requires scientists to rule out known internal climate variability and natural external forcings. So a key approach is to use physical models of the climate system to determine unique fingerprints for all potential external forcings. By comparing these fingerprints with the observed pattern and evolution of the climate change, and the observed evolution of the forcings, the causes of the observed changes can be determined. Greenhouse gases trap heat radiating from Earth to space. This heat, in the form of infrared radiation, gets absorbed and emitted by these gases in the planet\\'s atmosphere thus warming the lower atmosphere and the surface. On Earth, an atmosphere containing naturally occurring amounts of greenhouse gases causes air temperature near the surface to be warmer by about 33 °C (59 °F) than it would be in their absence. [c] Without the Earth\\'s atmosphere, the Earth\\'s average temperature would be well below the freezing temperature of water. The major greenhouse gases are water vapour, which causes about 36–70% of the greenhouse effect; carbon dioxide (CO2), which causes 9–26%; methane (CH4), which causes 4–9%; and ozone (O3), which causes 3–7%. Human activity since the Industrial Revolution has increased the amount of greenhouse gases in the atmosphere, leading to increased radiative forcing from CO2, methane, tropospheric ozone, CFCs, and nitrous oxide. In 2011, the concentrations of CO2 and methane had increased by about 40% and 150% respectively since pre-industrial times, with CO2 readings taken at the world\\'s primary benchmark site in Mauna Loa surpassing 400 ppm in 2013 for the first time. These levels are much higher than at any time during the last 800,000 years, the period for which reliable data has been extracted from ice cores. Less direct geological evidence indicates that CO2 values haven\\'t been this high for millions of years. Global anthropogenic greenhouse gas emissions in 2010 were 49 billion tonnes of carbon dioxide-equivalents per year (using the most recent global warming potentials over 100 years from the AR5 report). Of these emissions, 65% was carbon dioxide from fossil fuel burning and industry, 11% was carbon dioxide from land use change, which is primarily due to deforestation, 16% was methane, 6.2% was nitrous oxide, and 2.0% were fluorinated gases. Using life-cycle assessment to estimate emissions relating to final consumption, the dominant sources of 2010 emissions were: food (26–30% of emissions); washing, heating and lighting (26%); personal transport and freight (20%); and building construction (15%). Changing the type of vegetation in a region impacts the local temperature by changing how much sunlight gets reflected back into space and how much heat is lost by evaporation. For instance, the change from a dark forest to grassland makes the surface lighter, and causes it to reflect more sunlight: an increase in albedo. Humans change the land surface mainly to create more agricultural land. Since the pre-industrial era, albedo increased due to land use change, which has a cooling effect on the planet. Other processes linked to land use change however have had the opposite effect, so that the net effect remains unclear. Solid and liquid particles known as aerosols – from volcanoes, plankton and human-made pollutants – reflect incoming sunlight, cooling the climate. From 1961 to 1990, a gradual reduction in the amount of sunlight reaching the Earth\\'s surface was observed, a phenomenon popularly known as global dimming, typically attributed to aerosols from biofuel and fossil fuel burning. Aerosol removal by precipitation gives tropospheric aerosols an atmospheric lifetime of only about a week, while stratospheric aerosols can remain in the atmosphere for a few years. Global aerosols have been declining since 1990, removing some of the masking of global warming that aerosols had been providing. In addition to their direct effect by scattering and absorbing solar radiation, aerosols have indirect effects on the Earth\\'s radiation budget. Sulfate aerosols act as cloud condensation nuclei and thus lead to clouds that have more and smaller cloud droplets. These clouds reflect solar radiation more efficiently than clouds with fewer and larger droplets, a phenomenon known as the Twomey effect. This effect also causes droplets to be of more uniform size, which reduces growth of raindrops and makes the cloud more reflective to incoming sunlight, known as the Albrecht effect. Indirect effects of aerosols are the largest uncertainty in radiative forcing. [needs update] While aerosols typically limit global warming by reflecting sunlight, if black carbon in soot falls on snow or ice, it can also increase global warming. Not only does it increase the absorption of sunlight, it also increases melting and sea level rise. Limiting new black carbon deposits in the Arctic could reduce global warming by 0.2 degrees Celsius by 2050. When soot is suspended in the atmosphere, it directly absorbs solar radiation, heating the atmosphere and cooling the surface. In areas with high soot production, such as rural India, as much as 50% of surface warming due to greenhouse gases may be masked by atmospheric brown clouds. The influences of atmospheric particles, including black carbon, are most pronounced in the tropics and northern mid-latitudes, with the effects of greenhouse gases dominant in the other parts of the world. As the Sun is Earth\\'s primary energy source, changes in incoming sunlight directly affect the climate system. Solar irradiance has been measured directly by satellites since 1978, but indirect measurements are available beginning in the early 1600s. There has been no upward trend in the amount of the Sun\\'s energy reaching the Earth, so it cannot be responsible for the current warming. Physical climate models are also unable to reproduce the rapid warming observed in recent decades when taking into account only variations in solar output and volcanic activity. Another line of evidence for the warming not being due to the Sun is the temperature changes at different levels in the Earth\\'s atmosphere. According to basic physical principles, the greenhouse effect produces warming of the lower atmosphere (the troposphere), but cooling of the upper atmosphere (the stratosphere). If solar variations were responsible for the observed warming, warming of both the troposphere and the stratosphere would be expected, but that has not been the case. While variations in solar activity have not produced recent global warming, variations in solar output over geologic time (millions to billions of years ago) are believed to have caused major changes in the earth\\'s climate. [not in citation given] The 11-year solar cycle of sunspot activity also introduces climate changes that have a small cyclical effect on annual global temperatures. The tilt of the Earth\\'s axis and the shape of its orbit around the Sun vary slowly over tens of thousands of years in a phenomenon known as the Milankovitch cycles. This changes climate by changing the seasonal and latitudinal distribution of incoming solar energy at the Earth\\'s surface, resulting in periodic glacial and interglacial periods over the last few million years. During the last few thousand years, this phenomenon contributed to a slow cooling trend at high latitudes of the Northern Hemisphere during summer, a trend that was reversed by greenhouse-gas-induced warming during the 20th century. Orbital cycles favourable for glaciation are not expected within the next 50,000 years. The response of the climate system to an initial forcing is increased by positive feedbacks and reduced by negative feedbacks. The main negative feedback to global temperature change is radiative cooling to space as infrared radiation, which increases strongly with increasing temperature. The main positive feedbacks are the water vapour feedback, the ice–albedo feedback, and probably the net effect of clouds. Uncertainty over feedbacks is the major reason why different climate models project different magnitudes of warming for a given amount of emissions. As air gets warmer, it can hold more moisture. After an initial warming due to emissions of greenhouse gases, the atmosphere will hold more water. As water is a potent greenhouse gas, this further heats the climate: the water vapour feedback. The reduction of snow cover and sea ice in the Arctic reduces the albedo (reflectivity) of the Earth\\'s surface. More of the sun\\'s energy is now absorbed in these regions, contributing to Arctic amplification, which has caused Arctic temperatures to increase at almost twice the rate of the rest of the world. Arctic amplification also causes methane to be released as permafrost melts, which is expected to surpass land use changes as the second strongest anthropogenic source of greenhouse gases by the end of the century. Cloud cover may change in the future. To date, cloud changes have had a cooling effect, with NASA estimating that aerosols produced by the burning of hydrocarbons have limited warming by half from 1850 to 2010. An analysis of satellite data between 1983 and 2009 reveals that cloud tops are reaching higher into the atmosphere and that cloudy storm tracks are shifting toward Earth\\'s poles, suggesting clouds will be a positive feedback in the future. Carbon dioxide stimulates plant growth so the carbon cycle has been a negative feedback so far: roughly half of each year\\'s CO2 emissions have been absorbed by plants on land and in oceans, with an estimated 30% increase in plant growth from 2000 to 2017. The limits and reversal point for this feedback are an area of uncertainty. As more CO2 and heat are absorbed by the ocean it is acidifying and ocean circulation can change, changing the rate at which the ocean can absorb atmospheric carbon. On land, greater plant growth will be constrained by nitrogen levels and can be reversed by plant heat stress, desertification, and the release of carbon from soil as the ground warms. A concern is that positive feedbacks will lead to a tipping point, where global temperatures transition to a hothouse climate state even if greenhouse gas emissions are reduced or eliminated. A 2018 study tried to identify such a planetary threshold for self-reinforcing feedbacks and found that even a 2 °C (3.6 °F) increase in temperature over pre-industrial levels, may be enough to trigger such a hothouse Earth scenario. A climate model is a representation of the physical, chemical and biological processes that affect the climate system. Computer models are run on supercomputers to reproduce and predict the circulation of the oceans, the annual cycle of the seasons, and the flows of carbon between the land surface and the atmosphere. There are more than two dozen scientific institutions that develop climate models. Model forecasts vary due to different greenhouse gas inputs and different assumptions about the impact of different feedbacks on climate sensitivity. A subset of climate models add societal factors to a simple physical climate model. These models simulate how population, economic growth and energy use affect – and interact with – the physical climate. With this information, scientists can produce scenarios of how greenhouse gas emissions may vary in the future. Scientists can then run these scenarios through physical climate models to generate climate change projection. Climate models include different external forcings for their models. For different greenhouse gas inputs four RCPs (Representative Concentration Pathways) are used: \"a stringent mitigation scenario (RCP2.6), two intermediate scenarios (RCP4.5 and RCP6.0) and one scenario with very high GHG emissions (RCP8.5). Models also include changes in the Earth\\'s orbit, historical changes in the sun\\'s activity and volcanic forcing. RCPs only look at concentrations of greenhouse gases, factoring out uncertainty as to whether the carbon cycle will continue to remove about half of the carbon dioxide from the atmosphere each year. The physical realism of models is tested by examining their ability to simulate contemporary or past climates. Past models have underestimated the rate of Arctic shrinkage and underestimated the rate of precipitation increase. Sea level rise since 1990 was underestimated in older models, but now agrees well with observations. The 2017 United States-published National Climate Assessment notes that \"climate models may still be underestimating or missing relevant feedback processes\". The environmental effects of global warming are broad and far-reaching. They include the following diverse effects: Arctic sea ice decline, sea level rise, retreat of glaciers: global warming has led to decades of shrinking and thinning of the Arctic sea ice, making it vulnerable to atmospheric anomalies. Projections of declines in Arctic sea ice vary. Recent projections suggest that Arctic summers could be ice-free (defined as an ice extent of less than 1 million square km) as early as 2025–2030. Since 1993, sea level has on average risen with 3.1 ± 0.3 mm per year. Additionally, sea level rise has accelerated from 1993 to 2017. Over the 21st century, the IPCC projects (for a high emissions scenario) that global mean sea level could rise by 52–98 cm. The rate of ice loss from glaciers and ice sheets in the Antarctic is a key area of uncertainty since Antarctica contains 90% of potential sea level rise. Polar amplification and increased ocean warmth are undermining and threatening to unplug Antarctic glacier outlets, potentially resulting in more rapid sea level rise. Extreme weather, extreme events, tropical cyclones: Data analysis of extreme events from 1960 until 2010 suggests that droughts and heat waves appear simultaneously with increased frequency. Extremely wet or dry events within the monsoon period have increased since 1980. Projections suggest a probable increase in the frequency and severity of some extreme weather events, such as heat waves. Studies have also linked the rapidly warming Arctic to extreme weather in mid-latitudes as the jet stream becomes more erratic. Maximum rainfall and wind speed from hurricanes and typhoons are likely increasing. Changes in ocean properties: increases in atmospheric CO2 concentrations have led to an increase in dissolved CO2 and as a consequence ocean acidity. Furthermore, oxygen levels decrease because oxygen is less soluble in warmer water, an effect known as ocean deoxygenation. Long-term effects of global warming: On the timescale of centuries to millennia, the magnitude of global warming will be determined primarily by anthropogenic CO2 emissions. This is due to carbon dioxide\\'s very long lifetime in the atmosphere. Long-term effects also include a response from the Earth\\'s crust, due to ice melting and deglaciation, in a process called post-glacial rebound, when land masses are no longer depressed by the weight of ice. This could lead to landslides and increased seismic and volcanic activities. Tsunamis could be generated by submarine landslides caused by warmer ocean water thawing ocean-floor permafrost or releasing gas hydrates. Sea level rise will continue over many centuries. Abrupt climate change, tipping points in the climate system: Climate change could result in global, large-scale changes. Some large-scale changes could occur abruptly, i.e. over a short time period, and might also be irreversible. Examples of abrupt climate change are the rapid release of methane and carbon dioxide from permafrost, which would lead to amplified global warming. Another example is the possibility for the Atlantic Meridional Overturning Circulation to slow or to shut down (see also shutdown of thermohaline circulation). This could trigger cooling in the North Atlantic, Europe, and North America. Ecosystem changes: In terrestrial ecosystems, the earlier timing of spring events, as well as poleward and upward shifts in plant and animal ranges, have been linked with high confidence to recent warming. It is expected that most ecosystems will be affected by higher atmospheric CO2 levels, combined with higher global temperatures. Expansion of deserts in the subtropics is probably linked to global warming. Ocean acidification threatens damage to coral reefs, fisheries, protected species, and other natural resources of value to society. Without substantial actions to reduce the rate of global warming, land-based ecosystems are at risk of major ecological shifts, transforming composition and structure. Overall, it is expected that climate change will result in the extinction of many species and reduced diversity of ecosystems. Rising temperatures have been found to push bees to their physiological limits, and could cause the extinction of bee populations. Continued ocean uptake of CO2 may affect the brains and central nervous system of certain fish species, and that this impacts their ability to hear, smell, and evade predators. The effects of climate change on human systems, mostly due to warming or shifts in precipitation patterns, or both, have been detected worldwide. The future social impacts of climate change will be uneven across the world. All regions are at risk of experiencing negative impacts, with low-latitude, less developed areas facing the greatest risk. Global warming has likely already increased global economic inequality, and is projected to do so in the future. Regional impacts of climate change are now observable on all continents and across ocean regions. The Arctic, Africa, small islands and Asian megadeltas are regions that are likely to be especially affected by future climate change. Many risks increase with higher magnitudes of global warming. Crop production will probably be negatively affected in low latitude countries, while effects at northern latitudes may be positive or negative. Global warming of around 4 °C relative to late 20th century levels could pose a large risk to global and regional food security. The impact of climate change on crop productivity for the four major crops was negative for wheat and maize, and neutral for soy and rice, in the years 1960–2013. Climate variability and change is projected to severely compromise agricultural production, including access to food, across Africa. By 2050, between 350 million and 600 million people are projected to experience increased water stress due to climate change in Africa. Water availability will also become more limited in regions dependent on glacier water, regions with reductions in rainfall and small islands. Generally impacts on public health will be more negative than positive. Impacts include the direct effects of extreme weather, leading to injury and loss of life; and indirect effects, such as undernutrition brought on by crop failures. There has been a shift from cold- to heat-related mortality in some regions as a result of warming. Temperature rise has been connected to increased numbers of suicides. Climate change has been linked to an increase in violent conflict by amplifying poverty and economic shocks, which are well-documented drivers of these conflicts. Links have been made between a wide range of violent behaviour including fist fights, violent crimes, civil unrest, or wars. In small islands and mega deltas, inundation as a result of sea level rise is expected to threaten vital infrastructure and human settlements. This could lead to issues of homelessness in countries with low-lying areas such as Bangladesh, as well as statelessness for populations in island nations, such as the Maldives and Tuvalu. Climate change can be an important driver of migration, both within and between countries. Africa is one of the most vulnerable continents to climate variability and change because of multiple existing stresses and low adaptive capacity. Existing stresses include poverty, political conflicts, and ecosystem degradation. Regions may even become uninhabitable, with humidity and temperature reaching levels too high for humans to survive. Mitigation of and adaptation to climate change are two complementary responses to global warming. Successful adaptation is easier in the case of substantial emission reduction. Many of the countries that contributed least to global greenhouse gas emissions are most vulnerable to climate change, which raises questions about justice and fairness with regard to mitigation and adaptation. Mitigation of climate change is the reduction of greenhouse gas emissions, or the enhancement of the capacity of carbon sinks to absorb greenhouse gases from the atmosphere. There is a large potential for future reductions in emissions by a combination of activities, including energy conservation and increased energy efficiency; the use of low-carbon energy technologies, such as renewable energy, nuclear energy, and carbon capture and storage; decarbonizing buildings and transport; and enhancing carbon sinks through, for example, reforestation and preventing deforestation. A 2015 report by Citibank concluded that transitioning to a low carbon economy would yield positive return on investments. Over the last three decades of the twentieth century, gross domestic product per capita and population growth were the main drivers of increases in greenhouse gas emissions. CO2 emissions are continuing to rise due to the burning of fossil fuels and land-use change. Emissions can be attributed to different regions. Attribution of emissions due to land-use change are subject to considerable uncertainty. [better source needed] Emissions scenarios, estimates of changes in future emission levels of greenhouse gases, have been projected that depend upon uncertain economic, sociological, technological, and natural developments. In most scenarios, emissions continue to rise over the century, while in a few, emissions are reduced. Fossil fuel reserves are abundant, and will not limit carbon emissions in the 21st century. Emission scenarios, combined with modelling of the carbon cycle, have been used to produce estimates of how atmospheric concentrations of greenhouse gases might change in the future. Using the six IPCC SRES \"marker\" scenarios, models suggest that by the year 2100, the atmospheric concentration of CO2 could range between 541 and 970 ppm. Near- and long-term trends in the global energy system are inconsistent with limiting global warming at below 1.5 or 2 °C, relative to pre-industrial levels. Current pledges made as part of the Paris Agreement would lead to about 3.0 °C of warming at the end of the 21st century, relative to pre-industrial levels. In limiting warming at below 2 °C, more stringent emission reductions in the near-term would allow for less rapid reductions after 2030, and be cheaper overall. Many integrated models are unable to meet the 2 °C target if pessimistic assumptions are made about the availability of mitigation technologies. Co-benefits of climate change mitigation may help society and individuals more quickly. For example, cycling reduces greenhouse gas emissions while reducing the effects of a sedentary lifestyle at the same time. The development and scaling-up of clean technology, such as cement that produces less CO2. is critical to achieve sufficient emission reductions for the Paris agreement goals. It has been suggested that the most effective and comprehensive policy to reduce carbon emissions is a carbon tax or the closely related emissions trading. There are diverse opinions on how people could mitigate their carbon footprint. One suggestion is that the best approach is having fewer children, and to a lesser extent living car-free, forgoing air travel, and adopting a plant-based diet. Some disagree with encouraging people to stop having children, saying that children \"embody a profound hope for the future\", and that more emphasis should be placed on overconsumption, lifestyle choices of the world\\'s wealthy, fossil fuel companies and government inaction. Still others, such as Mayer Hillman, contend that both individual action and political action by national governments will not be enough, and only a global transition to zero GHG emissions throughout the entire economy and a reduction in human population growth will be sufficient to mitigate global warming. Climate change adaptation is the process of adjusting to actual or expected climate and its effects. Humans can strive to moderate or avoid harm due to climate change and exploit opportunities. Examples of adaptation are improved coastline protection, better disaster management and the development of crops that are more resistant. The adaptation may be planned, either in reaction to or anticipation of global warming, or spontaneous, i.e., without government intervention. The public section, private sector and communities are all gaining experience with adaptation and adaptation is becoming embedded within certain planning processes. While some adaptation responses call for trade-offs, others bring synergies and co-benefits. Environmental organizations and public figures have emphasized changes in the climate and the risks they entail, while promoting adaptation to changes in infrastructural needs and emissions reductions. Adaptation is especially important in developing countries since those countries are predicted to bear the brunt of the effects of global warming. That is, the capacity and potential for humans to adapt, called adaptive capacity, is unevenly distributed across different regions and populations, and developing countries generally have less capacity to adapt. Climate engineering (sometimes called geoengineering or climate intervention) is the deliberate modification of the climate. It has been investigated as a possible response to global warming, e.g. by NASA and the Royal Society. Techniques under research fall generally into the categories solar radiation management and carbon dioxide removal, although various other schemes have been suggested. A study from 2014 investigated the most common climate engineering methods and concluded they are either ineffective or have potentially severe side effects and cannot be stopped without causing rapid climate change. As of 2019[update] all countries in the world are parties to the United Nations Framework Convention on Climate Change (UNFCCC), but 12 countries have not ratified it, which means they are not legally bound by the agreement. The ultimate objective of the Convention is to prevent dangerous human interference to the climate system. As stated in the Convention, this requires that greenhouse gas concentrations are stabilized in the atmosphere at a level where ecosystems can adapt naturally to climate change, food production is not threatened, and economic development can be sustained. The Framework Convention was agreed on in 1992, but global emissions have risen since then. Its yearly conferences are the stage of global negotiations. During these negotiations, the G77 (a lobbying group in the United Nations representing developing countries) pushed for a mandate requiring developed countries to \"[take] the lead\" in reducing their emissions. This was justified on the basis that the developed countries\\' emissions had contributed most to the accumulation of greenhouse gases in the atmosphere, per-capita emissions (i.e., emissions per head of population) were still relatively low in developing countries, and the emissions of developing countries would grow to meet their development needs. This mandate was sustained in the 2005 Kyoto Protocol to the Framework Convention. In ratifying the Kyoto Protocol, most developed countries accepted legally binding commitments to limit their emissions. These first-round commitments expired in 2012. United States President George W. Bush rejected the treaty on the basis that \"it exempts 80% of the world, including major population centres such as China and India, from compliance, and would cause serious harm to the US economy\". In 2009 several UNFCCC Parties produced the Copenhagen Accord, which has been widely portrayed as disappointing because of its low goals, leading poor nations to reject it. Parties associated with the Accord aim to limit the future increase in global mean temperature to below 2 °C. In 2015 all UN countries negotiated the Paris Agreement, which aims to keep climate change well below 2 °C. The agreement replaced the Kyoto protocol. Unlike Kyoto, no binding emission targets are set in the Paris agreement. Instead, the procedure of regularly setting ever more ambitious goals and reevaluating these goals every five years has been made binding. The Paris agreement reiterated that developing countries must be financially supported. In the scientific literature, there is an overwhelming consensus that global surface temperatures have increased in recent decades and that the trend is caused mainly by human-induced emissions of greenhouse gases. No scientific body of national or international standing disagrees with this view. Scientific discussion takes place in journal articles that are peer-reviewed, which scientists subject to assessment every couple of years in the Intergovernmental Panel on Climate Change reports. The scientific consensus as of 2013[update] stated in the IPCC Fifth Assessment Report is that it \"is extremely likely that human influence has been the dominant cause of the observed warming since the mid-20th century\". National science academies have called on world leaders for policies to cut global emissions. In November 2017, a second warning to humanity signed by 15,364 scientists from 184 countries stated that \"the current trajectory of potentially catastrophic climate change due to rising greenhouse gases from burning fossil fuels, deforestation, and agricultural production – particularly from farming ruminants for meat consumption\" is \"especially troubling\". In 2018 the IPCC published a Special Report on Global Warming of 1.5 °C which warned that, if the current rate of greenhouse gas emissions is not mitigated, global warming is likely to reach 1.5 °C (2.7 °F) between 2030 and 2052 risking major crises. The report said that preventing such crises will require a swift transformation of the global economy that has \"no documented historic precedent\". In the 20th century and early 2000s some companies, such as ExxonMobil, challenged IPCC climate change scenarios, funded scientists who disagreed with the scientific consensus, and provided their own projections of the economic cost of stricter controls. In general, since the 2010s, global oil companies do not dispute that climate change exists and is caused by the burning of fossil fuels. As of 2019[update], however, some are lobbying against a carbon tax and plan to increase production of oil and gas but others are in favour of a carbon tax in exchange for immunity from lawsuits which seek climate change compensation. The global warming problem came to international public attention in the late 1980s and polling groups began to track opinions on the subject. The longest consistent polling, by Gallup in the US, found relatively small deviations of 10% or so from 1998 to 2015 in opinion on the seriousness of global warming, but with increasing polarization between those concerned and those unconcerned. By 2010 in the US, just a little over half the population (53%) viewed it as a serious concern for either themselves or their families. Latin America and developed Asia saw themselves most at risk at 73% and 74%. In the assessed 111 countries, people were more likely to attribute global warming to human activities than to natural causes, except in the US where nearly half (47%) of the population attributed global warming to natural causes. Public reactions to global warming and concern about its effects have been increasing, while many perceiving it as the worst global threat. A 2015 global survey showed that a median of 54% of respondents consider it \"a very serious problem\", with significant regional differences: Americans and Chinese (whose economies are responsible for the greatest annual CO2 emissions) are among the least concerned. From about 1990 onward, American conservative think tanks had begun challenging the legitimacy of global warming as a social problem. They challenged the scientific evidence, argued that global warming would have benefits, and asserted that proposed solutions would do more harm than good. Organizations such as the libertarian Competitive Enterprise Institute, conservative commentators have challenged IPCC climate change scenarios, funded scientists who disagree with the scientific consensus, and provided their own projections of the economic cost of stricter controls. Global warming has been the subject of controversy, substantially more pronounced in the popular media than in the scientific literature, with disputes regarding the nature, causes, and consequences of global warming. The disputed issues include the causes of increased global average air temperature, especially since the mid-20th century, whether this warming trend is unprecedented or within normal climatic variations, whether humankind has contributed significantly to it, and whether the increase is completely or partially an artifact of poor measurements. Additional disputes concern estimates of climate sensitivity, predictions of additional warming, what the consequences of global warming will be, and what to do about it. Due to confusing media coverage in the early 1990s, issues such as ozone depletion and climate change were often mixed up, affecting public understanding of these issues. According to a 2010 survey of Americans, a majority thought that the ozone layer and spray cans contribute to global warming. Although there are a few areas of linkage, the relationship between the two is not strong. Reduced stratospheric ozone has had a slight cooling influence on surface temperatures, while increased tropospheric ozone has had a somewhat larger warming effect. [needs update] However, chemicals causing ozone depletion are also powerful greenhouse gases, and as such the Montreal protocol against their emissions may have done more than any other measure to mitigate climate change. In a response to perceived inaction on climate change, a climate movement is protesting in various ways, such as fossil fuel divestment, worldwide demonstrations and the school strike for climate. The history of climate change science began in the early 19th century when ice ages and other natural changes in paleoclimate were first suspected and the natural greenhouse effect first identified. In the late 19th century, scientists first argued that human emissions of greenhouse gases could change the climate. In the 1960s, the warming effect of carbon dioxide gas became increasingly convincing. By the 1990s, as a result of improving fidelity of computer models and observational work confirming the Milankovitch theory of the ice ages, a consensus position formed: greenhouse gases were deeply involved in most climate changes, and human-caused emissions were bringing discernible global warming. Since then, scientific research on climate change has expanded. The Intergovernmental Panel on Climate Change, set up in the 1990s to provide formal advice the world\\'s governments, spurred unprecedented levels of exchange between different scientific disciplines. The greenhouse effect was proposed by Joseph Fourier in 1824, discovered in 1856 by Eunice Newton Foote, expanded upon by John Tyndall, investigated quantitatively by Svante Arrhenius in 1896, and the hypothesis was reported in the popular press as early as 1912. The scientific description of global warming was further developed in the 1930s through the 1960s by Guy Stewart Callendar. Research in the 1950s suggested increasing temperatures, and a 1952 newspaper reported \"climate change\". This phrase next appeared in a November 1957 report in The Hammond Times which described Roger Revelle\\'s research into the effects of increasing human-caused CO2 emissions on the greenhouse effect \"a large scale global warming, with radical climate changes may result\". A 1971 MIT report, referred to the human impact as \"inadvertent climate modification\", identifying many possible causes. Both the terms global warming and climate change were used only occasionally until 1975, when Wallace Smith Broecker published a scientific paper on the topic, \"Climatic Change: Are We on the Brink of a Pronounced Global Warming?\" The phrase began to come into common use, and in 1976 Mikhail Budyko\\'s statement that \"a global warming up has started\" was widely reported. An influential 1979 National Academy of Sciences study headed by Jule Charney followed Broecker in using global warming to refer to rising surface temperatures, while describing the wider effects of increased CO2 as climate change. There were increasing heatwaves and drought problems in the summer of 1988, and when NASA climate scientist James Hansen gave testimony in the U.S. Senate, it sparked worldwide interest. He said \"global warming has reached a level such that we can ascribe with a high degree of confidence a cause and effect relationship between the greenhouse effect and the observed warming\". Public attention increased over the summer, and global warming became the dominant popular term, commonly used both by the press and in public discourse. In the 2000s, the term climate change increased in popularity. People who regard climate change as catastrophic, irreversible or rapid might label climate change as a climate crisis or a climate emergency. Some major newspapers, such as The Guardian, have taken up the use of this terminology, as well as the term global heating, in order to emphasize its seriousness and urgency. Since 2016, some city councils have issued climate emergency declarations. In 2019, the British Parliament became the first national government in the world to officially declare a climate emergency. This section is being reorganized; many sources are not yet where they belong, and at times maybe out of order. Past IPCC reports are available at https://archive.ipcc.ch/. TAR Working Group I Report TAR Working Group II Report TAR Working Group III Report AR4 Working Group I Report AR4 Working Group II Report AR4 Working Group III Report AR4 Synthesis Report AR5 Working Group I Report AR5 Working Group II Report AR5 Working Group III Report AR5 Synthesis Report Special Report: SRES Special Report: SREX Special Report: SR15 Editors: \"o\" marks citations to be deleted pending verification that any short-cites link to the replacement citation (above). Anything linking to these citations should be immediately revised to link to replacement citaiton. '"
            ]
          },
          "metadata": {
            "tags": []
          },
          "execution_count": 9
        }
      ]
    },
    {
      "cell_type": "code",
      "metadata": {
        "id": "dgIgRQrEX-Qa",
        "colab_type": "code",
        "outputId": "d365c264-cf1d-4d28-8942-75e8bfa6366d",
        "colab": {
          "base_uri": "https://localhost:8080/",
          "height": 51
        }
      },
      "source": [
        "pip install nltk"
      ],
      "execution_count": 0,
      "outputs": [
        {
          "output_type": "stream",
          "text": [
            "Requirement already satisfied: nltk in /usr/local/lib/python3.6/dist-packages (3.2.5)\n",
            "Requirement already satisfied: six in /usr/local/lib/python3.6/dist-packages (from nltk) (1.12.0)\n"
          ],
          "name": "stdout"
        }
      ]
    },
    {
      "cell_type": "code",
      "metadata": {
        "id": "1cpqKJV_YCxL",
        "colab_type": "code",
        "outputId": "ad069b96-882f-4eee-9ad9-473e8d59f6e1",
        "colab": {
          "base_uri": "https://localhost:8080/",
          "height": 102
        }
      },
      "source": [
        "import nltk\n",
        "nltk.download('punkt')\n",
        "nltk.download('stopwords')"
      ],
      "execution_count": 0,
      "outputs": [
        {
          "output_type": "stream",
          "text": [
            "[nltk_data] Downloading package punkt to /root/nltk_data...\n",
            "[nltk_data]   Package punkt is already up-to-date!\n",
            "[nltk_data] Downloading package stopwords to /root/nltk_data...\n",
            "[nltk_data]   Unzipping corpora/stopwords.zip.\n"
          ],
          "name": "stdout"
        },
        {
          "output_type": "execute_result",
          "data": {
            "text/plain": [
              "True"
            ]
          },
          "metadata": {
            "tags": []
          },
          "execution_count": 18
        }
      ]
    },
    {
      "cell_type": "code",
      "metadata": {
        "id": "Jftgf7XxruEW",
        "colab_type": "code",
        "outputId": "252e0cf4-80b5-4345-be5f-4cc50fe8b386",
        "colab": {
          "base_uri": "https://localhost:8080/",
          "height": 1000
        }
      },
      "source": [
        "# Tokenize sentences\n",
        "sentences = nltk.sent_tokenize(text)\n",
        "sentences"
      ],
      "execution_count": 0,
      "outputs": [
        {
          "output_type": "execute_result",
          "data": {
            "text/plain": [
              "[\" Global warming is a long-term rise in the average temperature of the Earth's climate system; an aspect of climate change shown by temperature measurements and by multiple effects of the warming.\",\n",
              " 'Though earlier geological periods also experienced episodes of warming, the term commonly refers to the observed and continuing increase in average air and ocean temperatures since 1900 caused mainly by emissions of greenhouse gases (GHGs) in the modern industrial economy.',\n",
              " 'In the modern context the terms global warming and climate change are commonly used interchangeably, but climate change includes both global warming and its effects, such as changes to precipitation and impacts that differ by region.',\n",
              " 'Many of the observed changes in climate since the 1950s are unprecedented in the instrumental temperature record, and in historical and paleoclimate proxy records of climate change over thousands to millions of years.',\n",
              " 'In 2013, the Intergovernmental Panel on Climate Change (IPCC) Fifth Assessment Report concluded, \"It is extremely likely that human influence has been the dominant cause of the observed warming since the mid-20th century.\"',\n",
              " 'The largest human influence has been the emission of greenhouse gases such as carbon dioxide, methane, and nitrous oxide.',\n",
              " 'Climate model projections summarized in the report indicated that during the 21st century, the global surface temperature is likely to rise a further 0.3 to 1.7 °C (0.5 to 3.1 °F) in a moderate scenario, or as much as 2.6 to 4.8 °C (4.7 to 8.6 °F) in an extreme scenario, depending on the rate of future greenhouse gas emissions and on climate feedback effects.',\n",
              " 'These findings have been recognized by the national science academies of the major industrialized nations [a] and are not disputed by any scientific body of national or international standing.',\n",
              " 'Effects of global warming include rising sea levels, regional changes in precipitation, more frequent extreme weather events such as heat waves, and expansion of deserts.',\n",
              " 'Surface temperature increases are greatest in the Arctic, with the continuing retreat of glaciers, permafrost, and sea ice.',\n",
              " 'Overall, higher temperatures bring more rain and snowfall, but for some regions droughts and wildfires increase instead.',\n",
              " 'Climate change impacts humans by, amongst other things, threatening food security from decreasing crop yields, and the abandonment of populated areas and damage to infrastructure due to rising sea levels.',\n",
              " 'Environmental impacts include the extinction or relocation of ecosystems as they adapt to climate change, with coral reefs, mountain ecosystems, and Arctic ecosystems most immediately threatened.',\n",
              " 'Because the climate system has a large \"inertia\" and greenhouse gases will remain in the atmosphere for a long time, climatic changes and their effects will continue to become more pronounced for many centuries even if further increases to greenhouse gases stop.',\n",
              " 'Globally, a majority of people consider global warming a serious or very serious issue.',\n",
              " 'Possible societal responses to global warming include mitigation by emissions reduction, adaptation to its effects, and possible future climate engineering.',\n",
              " 'Every country in the world is a party to the United Nations Framework Convention on Climate Change (UNFCCC), whose ultimate objective is to prevent dangerous anthropogenic climate change.',\n",
              " 'Parties to the UNFCCC have agreed that deep cuts in emissions are required and that global warming should be limited to well below 2 °C (3.6 °F) compared to pre-industrial levels,[b] with efforts made to limit warming to 1.5 °C (2.7 °F).',\n",
              " 'Some scientists call into question climate adaptation feasibility, with higher emissions scenarios, or the two degree temperature target Multiple independently produced datasets confirm that between 1880 and 2012, the global average (land and ocean) surface temperature increased by 0.85 [0.65 to 1.06] °C.',\n",
              " 'Currently, surface temperature rise with about 0.2 °C degrees per decade.',\n",
              " 'Since 1950, the number of cold days and nights have decreased, and the number of warm days and night have increased.',\n",
              " 'These trends can be compared to historical temperature trends: patterns of warming and cooling like the Medieval Climate Anomaly and the Little Ice Age were not as synchronous as current warming, but did reach temperatures as high as late-20th century regionally.',\n",
              " 'Although the increase of the average near-surface atmospheric temperature is commonly used to track global warming, over 90% of the additional energy stored in the climate system over the last 50 years is in warmer ocean water.',\n",
              " 'The rest has melted ice and warmed the continents and the atmosphere.',\n",
              " 'Melting ice (including Arctic sea ice, ice sheets and glaciers) and warming of the continents and atmosphere account for the remainder of the change in energy.\"',\n",
              " 'The warming evident in the instrumental temperature record is consistent with a wide range of observations, documented by many independent scientific groups, for example in most continental regions the frequency and intensity of heavy precipitation has increased.',\n",
              " 'Further examples include sea level rise, widespread melting of snow and land ice, increased heat content of the oceans, increased humidity, and the earlier timing of spring events, such as the flowering of plants.',\n",
              " 'Global warming refers to global averages, with the amount of warming varying by region.',\n",
              " 'Since 1979, global average land temperatures have increased about twice as fast as global average ocean temperatures.',\n",
              " '[needs update?]',\n",
              " 'This is due to the larger heat capacity of the oceans and because oceans lose more heat by evaporation.',\n",
              " 'Where greenhouse gas emissions occur does not impact the location of warming because the major greenhouse gases persist long enough to diffuse across the planet, although localized black carbon deposits on snow and ice do contribute to Arctic warming.',\n",
              " 'The Northern Hemisphere and North Pole have heated much faster than the South Pole and Southern Hemisphere.',\n",
              " 'The Northern Hemisphere not only has much more land, its arrangement around the Arctic Ocean has resulted in the maximum surface area flipping from reflective snow and ice cover to ocean and land surfaces that absorb more sunlight.',\n",
              " 'Arctic temperatures have increased and are predicted to continue to increase during this century at over twice the rate of the rest of the world.',\n",
              " '[needs update?]',\n",
              " 'As the temperature difference between the Arctic and the equator decreases ocean currents that are driven by that temperature difference, like the Gulf Stream, are weakening.',\n",
              " 'Because the climate system has large thermal inertia, it can take centuries for the climate to fully adjust.',\n",
              " 'While record-breaking years attract considerable public interest, individual years are less significant than the overall trend.',\n",
              " 'Global surface temperature is subject to short-term fluctuations that overlay long-term trends, and can temporarily mask or magnify them.',\n",
              " 'An example of such an episode is the slower rate of surface temperature increase from 1998 to 2012, which was dubbed the global warming hiatus by the media and some scientists.',\n",
              " 'Throughout this period ocean heat storage continued to progress steadily upwards, and in subsequent years surface temperatures have spiked upwards.',\n",
              " 'The slower pace of warming can be attributed to heating and cooling in the Pacific Ocean from natural variability such as El Niño and La Nina events, reduced solar activity, and a number of volcanic eruptions that inserted sunlight-reflecting particles into the atmosphere.',\n",
              " 'By itself, the climate system may generate changes in global temperatures for years (such as the El Niño–Southern Oscillation) to decades or centuries at a time.',\n",
              " 'Other changes emanate from so-called external forcings.',\n",
              " 'These forcings are \"external\" to the climate system, but not necessarily external to Earth.',\n",
              " \"Examples of external forcings include changes in the composition of the atmosphere (e.g., increased concentrations of greenhouse gases), solar luminosity, volcanic eruptions, and variations in Earth's orbit around the Sun.\",\n",
              " 'Attributing detected temperature changes and extreme events to man-made increases in greenhouse gases requires scientists to rule out known internal climate variability and natural external forcings.',\n",
              " 'So a key approach is to use physical models of the climate system to determine unique fingerprints for all potential external forcings.',\n",
              " 'By comparing these fingerprints with the observed pattern and evolution of the climate change, and the observed evolution of the forcings, the causes of the observed changes can be determined.',\n",
              " 'Greenhouse gases trap heat radiating from Earth to space.',\n",
              " \"This heat, in the form of infrared radiation, gets absorbed and emitted by these gases in the planet's atmosphere thus warming the lower atmosphere and the surface.\",\n",
              " 'On Earth, an atmosphere containing naturally occurring amounts of greenhouse gases causes air temperature near the surface to be warmer by about 33 °C (59 °F) than it would be in their absence.',\n",
              " \"[c] Without the Earth's atmosphere, the Earth's average temperature would be well below the freezing temperature of water.\",\n",
              " 'The major greenhouse gases are water vapour, which causes about 36–70% of the greenhouse effect; carbon dioxide (CO2), which causes 9–26%; methane (CH4), which causes 4–9%; and ozone (O3), which causes 3–7%.',\n",
              " 'Human activity since the Industrial Revolution has increased the amount of greenhouse gases in the atmosphere, leading to increased radiative forcing from CO2, methane, tropospheric ozone, CFCs, and nitrous oxide.',\n",
              " \"In 2011, the concentrations of CO2 and methane had increased by about 40% and 150% respectively since pre-industrial times, with CO2 readings taken at the world's primary benchmark site in Mauna Loa surpassing 400 ppm in 2013 for the first time.\",\n",
              " 'These levels are much higher than at any time during the last 800,000 years, the period for which reliable data has been extracted from ice cores.',\n",
              " \"Less direct geological evidence indicates that CO2 values haven't been this high for millions of years.\",\n",
              " 'Global anthropogenic greenhouse gas emissions in 2010 were 49 billion tonnes of carbon dioxide-equivalents per year (using the most recent global warming potentials over 100 years from the AR5 report).',\n",
              " 'Of these emissions, 65% was carbon dioxide from fossil fuel burning and industry, 11% was carbon dioxide from land use change, which is primarily due to deforestation, 16% was methane, 6.2% was nitrous oxide, and 2.0% were fluorinated gases.',\n",
              " 'Using life-cycle assessment to estimate emissions relating to final consumption, the dominant sources of 2010 emissions were: food (26–30% of emissions); washing, heating and lighting (26%); personal transport and freight (20%); and building construction (15%).',\n",
              " 'Changing the type of vegetation in a region impacts the local temperature by changing how much sunlight gets reflected back into space and how much heat is lost by evaporation.',\n",
              " 'For instance, the change from a dark forest to grassland makes the surface lighter, and causes it to reflect more sunlight: an increase in albedo.',\n",
              " 'Humans change the land surface mainly to create more agricultural land.',\n",
              " 'Since the pre-industrial era, albedo increased due to land use change, which has a cooling effect on the planet.',\n",
              " 'Other processes linked to land use change however have had the opposite effect, so that the net effect remains unclear.',\n",
              " 'Solid and liquid particles known as aerosols – from volcanoes, plankton and human-made pollutants – reflect incoming sunlight, cooling the climate.',\n",
              " \"From 1961 to 1990, a gradual reduction in the amount of sunlight reaching the Earth's surface was observed, a phenomenon popularly known as global dimming, typically attributed to aerosols from biofuel and fossil fuel burning.\",\n",
              " 'Aerosol removal by precipitation gives tropospheric aerosols an atmospheric lifetime of only about a week, while stratospheric aerosols can remain in the atmosphere for a few years.',\n",
              " 'Global aerosols have been declining since 1990, removing some of the masking of global warming that aerosols had been providing.',\n",
              " \"In addition to their direct effect by scattering and absorbing solar radiation, aerosols have indirect effects on the Earth's radiation budget.\",\n",
              " 'Sulfate aerosols act as cloud condensation nuclei and thus lead to clouds that have more and smaller cloud droplets.',\n",
              " 'These clouds reflect solar radiation more efficiently than clouds with fewer and larger droplets, a phenomenon known as the Twomey effect.',\n",
              " 'This effect also causes droplets to be of more uniform size, which reduces growth of raindrops and makes the cloud more reflective to incoming sunlight, known as the Albrecht effect.',\n",
              " 'Indirect effects of aerosols are the largest uncertainty in radiative forcing.',\n",
              " '[needs update] While aerosols typically limit global warming by reflecting sunlight, if black carbon in soot falls on snow or ice, it can also increase global warming.',\n",
              " 'Not only does it increase the absorption of sunlight, it also increases melting and sea level rise.',\n",
              " 'Limiting new black carbon deposits in the Arctic could reduce global warming by 0.2 degrees Celsius by 2050.',\n",
              " 'When soot is suspended in the atmosphere, it directly absorbs solar radiation, heating the atmosphere and cooling the surface.',\n",
              " 'In areas with high soot production, such as rural India, as much as 50% of surface warming due to greenhouse gases may be masked by atmospheric brown clouds.',\n",
              " 'The influences of atmospheric particles, including black carbon, are most pronounced in the tropics and northern mid-latitudes, with the effects of greenhouse gases dominant in the other parts of the world.',\n",
              " \"As the Sun is Earth's primary energy source, changes in incoming sunlight directly affect the climate system.\",\n",
              " 'Solar irradiance has been measured directly by satellites since 1978, but indirect measurements are available beginning in the early 1600s.',\n",
              " \"There has been no upward trend in the amount of the Sun's energy reaching the Earth, so it cannot be responsible for the current warming.\",\n",
              " 'Physical climate models are also unable to reproduce the rapid warming observed in recent decades when taking into account only variations in solar output and volcanic activity.',\n",
              " \"Another line of evidence for the warming not being due to the Sun is the temperature changes at different levels in the Earth's atmosphere.\",\n",
              " 'According to basic physical principles, the greenhouse effect produces warming of the lower atmosphere (the troposphere), but cooling of the upper atmosphere (the stratosphere).',\n",
              " 'If solar variations were responsible for the observed warming, warming of both the troposphere and the stratosphere would be expected, but that has not been the case.',\n",
              " \"While variations in solar activity have not produced recent global warming, variations in solar output over geologic time (millions to billions of years ago) are believed to have caused major changes in the earth's climate.\",\n",
              " '[not in citation given] The 11-year solar cycle of sunspot activity also introduces climate changes that have a small cyclical effect on annual global temperatures.',\n",
              " \"The tilt of the Earth's axis and the shape of its orbit around the Sun vary slowly over tens of thousands of years in a phenomenon known as the Milankovitch cycles.\",\n",
              " \"This changes climate by changing the seasonal and latitudinal distribution of incoming solar energy at the Earth's surface, resulting in periodic glacial and interglacial periods over the last few million years.\",\n",
              " 'During the last few thousand years, this phenomenon contributed to a slow cooling trend at high latitudes of the Northern Hemisphere during summer, a trend that was reversed by greenhouse-gas-induced warming during the 20th century.',\n",
              " 'Orbital cycles favourable for glaciation are not expected within the next 50,000 years.',\n",
              " 'The response of the climate system to an initial forcing is increased by positive feedbacks and reduced by negative feedbacks.',\n",
              " 'The main negative feedback to global temperature change is radiative cooling to space as infrared radiation, which increases strongly with increasing temperature.',\n",
              " 'The main positive feedbacks are the water vapour feedback, the ice–albedo feedback, and probably the net effect of clouds.',\n",
              " 'Uncertainty over feedbacks is the major reason why different climate models project different magnitudes of warming for a given amount of emissions.',\n",
              " 'As air gets warmer, it can hold more moisture.',\n",
              " 'After an initial warming due to emissions of greenhouse gases, the atmosphere will hold more water.',\n",
              " 'As water is a potent greenhouse gas, this further heats the climate: the water vapour feedback.',\n",
              " \"The reduction of snow cover and sea ice in the Arctic reduces the albedo (reflectivity) of the Earth's surface.\",\n",
              " \"More of the sun's energy is now absorbed in these regions, contributing to Arctic amplification, which has caused Arctic temperatures to increase at almost twice the rate of the rest of the world.\",\n",
              " 'Arctic amplification also causes methane to be released as permafrost melts, which is expected to surpass land use changes as the second strongest anthropogenic source of greenhouse gases by the end of the century.',\n",
              " 'Cloud cover may change in the future.',\n",
              " 'To date, cloud changes have had a cooling effect, with NASA estimating that aerosols produced by the burning of hydrocarbons have limited warming by half from 1850 to 2010.',\n",
              " \"An analysis of satellite data between 1983 and 2009 reveals that cloud tops are reaching higher into the atmosphere and that cloudy storm tracks are shifting toward Earth's poles, suggesting clouds will be a positive feedback in the future.\",\n",
              " \"Carbon dioxide stimulates plant growth so the carbon cycle has been a negative feedback so far: roughly half of each year's CO2 emissions have been absorbed by plants on land and in oceans, with an estimated 30% increase in plant growth from 2000 to 2017.\",\n",
              " 'The limits and reversal point for this feedback are an area of uncertainty.',\n",
              " 'As more CO2 and heat are absorbed by the ocean it is acidifying and ocean circulation can change, changing the rate at which the ocean can absorb atmospheric carbon.',\n",
              " 'On land, greater plant growth will be constrained by nitrogen levels and can be reversed by plant heat stress, desertification, and the release of carbon from soil as the ground warms.',\n",
              " 'A concern is that positive feedbacks will lead to a tipping point, where global temperatures transition to a hothouse climate state even if greenhouse gas emissions are reduced or eliminated.',\n",
              " 'A 2018 study tried to identify such a planetary threshold for self-reinforcing feedbacks and found that even a 2 °C (3.6 °F) increase in temperature over pre-industrial levels, may be enough to trigger such a hothouse Earth scenario.',\n",
              " 'A climate model is a representation of the physical, chemical and biological processes that affect the climate system.',\n",
              " 'Computer models are run on supercomputers to reproduce and predict the circulation of the oceans, the annual cycle of the seasons, and the flows of carbon between the land surface and the atmosphere.',\n",
              " 'There are more than two dozen scientific institutions that develop climate models.',\n",
              " 'Model forecasts vary due to different greenhouse gas inputs and different assumptions about the impact of different feedbacks on climate sensitivity.',\n",
              " 'A subset of climate models add societal factors to a simple physical climate model.',\n",
              " 'These models simulate how population, economic growth and energy use affect – and interact with – the physical climate.',\n",
              " 'With this information, scientists can produce scenarios of how greenhouse gas emissions may vary in the future.',\n",
              " 'Scientists can then run these scenarios through physical climate models to generate climate change projection.',\n",
              " 'Climate models include different external forcings for their models.',\n",
              " 'For different greenhouse gas inputs four RCPs (Representative Concentration Pathways) are used: \"a stringent mitigation scenario (RCP2.6), two intermediate scenarios (RCP4.5 and RCP6.0) and one scenario with very high GHG emissions (RCP8.5).',\n",
              " \"Models also include changes in the Earth's orbit, historical changes in the sun's activity and volcanic forcing.\",\n",
              " 'RCPs only look at concentrations of greenhouse gases, factoring out uncertainty as to whether the carbon cycle will continue to remove about half of the carbon dioxide from the atmosphere each year.',\n",
              " 'The physical realism of models is tested by examining their ability to simulate contemporary or past climates.',\n",
              " 'Past models have underestimated the rate of Arctic shrinkage and underestimated the rate of precipitation increase.',\n",
              " 'Sea level rise since 1990 was underestimated in older models, but now agrees well with observations.',\n",
              " 'The 2017 United States-published National Climate Assessment notes that \"climate models may still be underestimating or missing relevant feedback processes\".',\n",
              " 'The environmental effects of global warming are broad and far-reaching.',\n",
              " 'They include the following diverse effects: Arctic sea ice decline, sea level rise, retreat of glaciers: global warming has led to decades of shrinking and thinning of the Arctic sea ice, making it vulnerable to atmospheric anomalies.',\n",
              " 'Projections of declines in Arctic sea ice vary.',\n",
              " 'Recent projections suggest that Arctic summers could be ice-free (defined as an ice extent of less than 1 million square km) as early as 2025–2030.',\n",
              " 'Since 1993, sea level has on average risen with 3.1 ± 0.3 mm per year.',\n",
              " 'Additionally, sea level rise has accelerated from 1993 to 2017.',\n",
              " 'Over the 21st century, the IPCC projects (for a high emissions scenario) that global mean sea level could rise by 52–98 cm.',\n",
              " 'The rate of ice loss from glaciers and ice sheets in the Antarctic is a key area of uncertainty since Antarctica contains 90% of potential sea level rise.',\n",
              " 'Polar amplification and increased ocean warmth are undermining and threatening to unplug Antarctic glacier outlets, potentially resulting in more rapid sea level rise.',\n",
              " 'Extreme weather, extreme events, tropical cyclones: Data analysis of extreme events from 1960 until 2010 suggests that droughts and heat waves appear simultaneously with increased frequency.',\n",
              " 'Extremely wet or dry events within the monsoon period have increased since 1980.',\n",
              " 'Projections suggest a probable increase in the frequency and severity of some extreme weather events, such as heat waves.',\n",
              " 'Studies have also linked the rapidly warming Arctic to extreme weather in mid-latitudes as the jet stream becomes more erratic.',\n",
              " 'Maximum rainfall and wind speed from hurricanes and typhoons are likely increasing.',\n",
              " 'Changes in ocean properties: increases in atmospheric CO2 concentrations have led to an increase in dissolved CO2 and as a consequence ocean acidity.',\n",
              " 'Furthermore, oxygen levels decrease because oxygen is less soluble in warmer water, an effect known as ocean deoxygenation.',\n",
              " 'Long-term effects of global warming: On the timescale of centuries to millennia, the magnitude of global warming will be determined primarily by anthropogenic CO2 emissions.',\n",
              " \"This is due to carbon dioxide's very long lifetime in the atmosphere.\",\n",
              " \"Long-term effects also include a response from the Earth's crust, due to ice melting and deglaciation, in a process called post-glacial rebound, when land masses are no longer depressed by the weight of ice.\",\n",
              " 'This could lead to landslides and increased seismic and volcanic activities.',\n",
              " 'Tsunamis could be generated by submarine landslides caused by warmer ocean water thawing ocean-floor permafrost or releasing gas hydrates.',\n",
              " 'Sea level rise will continue over many centuries.',\n",
              " 'Abrupt climate change, tipping points in the climate system: Climate change could result in global, large-scale changes.',\n",
              " 'Some large-scale changes could occur abruptly, i.e.',\n",
              " 'over a short time period, and might also be irreversible.',\n",
              " 'Examples of abrupt climate change are the rapid release of methane and carbon dioxide from permafrost, which would lead to amplified global warming.',\n",
              " 'Another example is the possibility for the Atlantic Meridional Overturning Circulation to slow or to shut down (see also shutdown of thermohaline circulation).',\n",
              " 'This could trigger cooling in the North Atlantic, Europe, and North America.',\n",
              " 'Ecosystem changes: In terrestrial ecosystems, the earlier timing of spring events, as well as poleward and upward shifts in plant and animal ranges, have been linked with high confidence to recent warming.',\n",
              " 'It is expected that most ecosystems will be affected by higher atmospheric CO2 levels, combined with higher global temperatures.',\n",
              " 'Expansion of deserts in the subtropics is probably linked to global warming.',\n",
              " 'Ocean acidification threatens damage to coral reefs, fisheries, protected species, and other natural resources of value to society.',\n",
              " 'Without substantial actions to reduce the rate of global warming, land-based ecosystems are at risk of major ecological shifts, transforming composition and structure.',\n",
              " 'Overall, it is expected that climate change will result in the extinction of many species and reduced diversity of ecosystems.',\n",
              " 'Rising temperatures have been found to push bees to their physiological limits, and could cause the extinction of bee populations.',\n",
              " 'Continued ocean uptake of CO2 may affect the brains and central nervous system of certain fish species, and that this impacts their ability to hear, smell, and evade predators.',\n",
              " 'The effects of climate change on human systems, mostly due to warming or shifts in precipitation patterns, or both, have been detected worldwide.',\n",
              " 'The future social impacts of climate change will be uneven across the world.',\n",
              " 'All regions are at risk of experiencing negative impacts, with low-latitude, less developed areas facing the greatest risk.',\n",
              " 'Global warming has likely already increased global economic inequality, and is projected to do so in the future.',\n",
              " 'Regional impacts of climate change are now observable on all continents and across ocean regions.',\n",
              " 'The Arctic, Africa, small islands and Asian megadeltas are regions that are likely to be especially affected by future climate change.',\n",
              " 'Many risks increase with higher magnitudes of global warming.',\n",
              " 'Crop production will probably be negatively affected in low latitude countries, while effects at northern latitudes may be positive or negative.',\n",
              " 'Global warming of around 4 °C relative to late 20th century levels could pose a large risk to global and regional food security.',\n",
              " 'The impact of climate change on crop productivity for the four major crops was negative for wheat and maize, and neutral for soy and rice, in the years 1960–2013.',\n",
              " 'Climate variability and change is projected to severely compromise agricultural production, including access to food, across Africa.',\n",
              " 'By 2050, between 350 million and 600 million people are projected to experience increased water stress due to climate change in Africa.',\n",
              " 'Water availability will also become more limited in regions dependent on glacier water, regions with reductions in rainfall and small islands.',\n",
              " 'Generally impacts on public health will be more negative than positive.',\n",
              " 'Impacts include the direct effects of extreme weather, leading to injury and loss of life; and indirect effects, such as undernutrition brought on by crop failures.',\n",
              " 'There has been a shift from cold- to heat-related mortality in some regions as a result of warming.',\n",
              " 'Temperature rise has been connected to increased numbers of suicides.',\n",
              " 'Climate change has been linked to an increase in violent conflict by amplifying poverty and economic shocks, which are well-documented drivers of these conflicts.',\n",
              " 'Links have been made between a wide range of violent behaviour including fist fights, violent crimes, civil unrest, or wars.',\n",
              " 'In small islands and mega deltas, inundation as a result of sea level rise is expected to threaten vital infrastructure and human settlements.',\n",
              " 'This could lead to issues of homelessness in countries with low-lying areas such as Bangladesh, as well as statelessness for populations in island nations, such as the Maldives and Tuvalu.',\n",
              " 'Climate change can be an important driver of migration, both within and between countries.',\n",
              " 'Africa is one of the most vulnerable continents to climate variability and change because of multiple existing stresses and low adaptive capacity.',\n",
              " 'Existing stresses include poverty, political conflicts, and ecosystem degradation.',\n",
              " 'Regions may even become uninhabitable, with humidity and temperature reaching levels too high for humans to survive.',\n",
              " 'Mitigation of and adaptation to climate change are two complementary responses to global warming.',\n",
              " 'Successful adaptation is easier in the case of substantial emission reduction.',\n",
              " 'Many of the countries that contributed least to global greenhouse gas emissions are most vulnerable to climate change, which raises questions about justice and fairness with regard to mitigation and adaptation.',\n",
              " 'Mitigation of climate change is the reduction of greenhouse gas emissions, or the enhancement of the capacity of carbon sinks to absorb greenhouse gases from the atmosphere.',\n",
              " 'There is a large potential for future reductions in emissions by a combination of activities, including energy conservation and increased energy efficiency; the use of low-carbon energy technologies, such as renewable energy, nuclear energy, and carbon capture and storage; decarbonizing buildings and transport; and enhancing carbon sinks through, for example, reforestation and preventing deforestation.',\n",
              " 'A 2015 report by Citibank concluded that transitioning to a low carbon economy would yield positive return on investments.',\n",
              " 'Over the last three decades of the twentieth century, gross domestic product per capita and population growth were the main drivers of increases in greenhouse gas emissions.',\n",
              " 'CO2 emissions are continuing to rise due to the burning of fossil fuels and land-use change.',\n",
              " 'Emissions can be attributed to different regions.',\n",
              " 'Attribution of emissions due to land-use change are subject to considerable uncertainty.',\n",
              " '[better source needed] Emissions scenarios, estimates of changes in future emission levels of greenhouse gases, have been projected that depend upon uncertain economic, sociological, technological, and natural developments.',\n",
              " 'In most scenarios, emissions continue to rise over the century, while in a few, emissions are reduced.',\n",
              " 'Fossil fuel reserves are abundant, and will not limit carbon emissions in the 21st century.',\n",
              " 'Emission scenarios, combined with modelling of the carbon cycle, have been used to produce estimates of how atmospheric concentrations of greenhouse gases might change in the future.',\n",
              " 'Using the six IPCC SRES \"marker\" scenarios, models suggest that by the year 2100, the atmospheric concentration of CO2 could range between 541 and 970 ppm.',\n",
              " 'Near- and long-term trends in the global energy system are inconsistent with limiting global warming at below 1.5 or 2 °C, relative to pre-industrial levels.',\n",
              " 'Current pledges made as part of the Paris Agreement would lead to about 3.0 °C of warming at the end of the 21st century, relative to pre-industrial levels.',\n",
              " 'In limiting warming at below 2 °C, more stringent emission reductions in the near-term would allow for less rapid reductions after 2030, and be cheaper overall.',\n",
              " 'Many integrated models are unable to meet the 2 °C target if pessimistic assumptions are made about the availability of mitigation technologies.',\n",
              " 'Co-benefits of climate change mitigation may help society and individuals more quickly.',\n",
              " 'For example, cycling reduces greenhouse gas emissions while reducing the effects of a sedentary lifestyle at the same time.',\n",
              " 'The development and scaling-up of clean technology, such as cement that produces less CO2.',\n",
              " 'is critical to achieve sufficient emission reductions for the Paris agreement goals.',\n",
              " 'It has been suggested that the most effective and comprehensive policy to reduce carbon emissions is a carbon tax or the closely related emissions trading.',\n",
              " 'There are diverse opinions on how people could mitigate their carbon footprint.',\n",
              " 'One suggestion is that the best approach is having fewer children, and to a lesser extent living car-free, forgoing air travel, and adopting a plant-based diet.',\n",
              " 'Some disagree with encouraging people to stop having children, saying that children \"embody a profound hope for the future\", and that more emphasis should be placed on overconsumption, lifestyle choices of the world\\'s wealthy, fossil fuel companies and government inaction.',\n",
              " 'Still others, such as Mayer Hillman, contend that both individual action and political action by national governments will not be enough, and only a global transition to zero GHG emissions throughout the entire economy and a reduction in human population growth will be sufficient to mitigate global warming.',\n",
              " 'Climate change adaptation is the process of adjusting to actual or expected climate and its effects.',\n",
              " 'Humans can strive to moderate or avoid harm due to climate change and exploit opportunities.',\n",
              " 'Examples of adaptation are improved coastline protection, better disaster management and the development of crops that are more resistant.',\n",
              " 'The adaptation may be planned, either in reaction to or anticipation of global warming, or spontaneous, i.e., without government intervention.',\n",
              " 'The public section, private sector and communities are all gaining experience with adaptation and adaptation is becoming embedded within certain planning processes.',\n",
              " 'While some adaptation responses call for trade-offs, others bring synergies and co-benefits.',\n",
              " 'Environmental organizations and public figures have emphasized changes in the climate and the risks they entail, while promoting adaptation to changes in infrastructural needs and emissions reductions.',\n",
              " 'Adaptation is especially important in developing countries since those countries are predicted to bear the brunt of the effects of global warming.',\n",
              " 'That is, the capacity and potential for humans to adapt, called adaptive capacity, is unevenly distributed across different regions and populations, and developing countries generally have less capacity to adapt.',\n",
              " 'Climate engineering (sometimes called geoengineering or climate intervention) is the deliberate modification of the climate.',\n",
              " 'It has been investigated as a possible response to global warming, e.g.',\n",
              " 'by NASA and the Royal Society.',\n",
              " 'Techniques under research fall generally into the categories solar radiation management and carbon dioxide removal, although various other schemes have been suggested.',\n",
              " 'A study from 2014 investigated the most common climate engineering methods and concluded they are either ineffective or have potentially severe side effects and cannot be stopped without causing rapid climate change.',\n",
              " 'As of 2019[update] all countries in the world are parties to the United Nations Framework Convention on Climate Change (UNFCCC), but 12 countries have not ratified it, which means they are not legally bound by the agreement.',\n",
              " 'The ultimate objective of the Convention is to prevent dangerous human interference to the climate system.',\n",
              " 'As stated in the Convention, this requires that greenhouse gas concentrations are stabilized in the atmosphere at a level where ecosystems can adapt naturally to climate change, food production is not threatened, and economic development can be sustained.',\n",
              " 'The Framework Convention was agreed on in 1992, but global emissions have risen since then.',\n",
              " 'Its yearly conferences are the stage of global negotiations.',\n",
              " 'During these negotiations, the G77 (a lobbying group in the United Nations representing developing countries) pushed for a mandate requiring developed countries to \"[take] the lead\" in reducing their emissions.',\n",
              " \"This was justified on the basis that the developed countries' emissions had contributed most to the accumulation of greenhouse gases in the atmosphere, per-capita emissions (i.e., emissions per head of population) were still relatively low in developing countries, and the emissions of developing countries would grow to meet their development needs.\",\n",
              " 'This mandate was sustained in the 2005 Kyoto Protocol to the Framework Convention.',\n",
              " 'In ratifying the Kyoto Protocol, most developed countries accepted legally binding commitments to limit their emissions.',\n",
              " 'These first-round commitments expired in 2012.',\n",
              " 'United States President George W. Bush rejected the treaty on the basis that \"it exempts 80% of the world, including major population centres such as China and India, from compliance, and would cause serious harm to the US economy\".',\n",
              " 'In 2009 several UNFCCC Parties produced the Copenhagen Accord, which has been widely portrayed as disappointing because of its low goals, leading poor nations to reject it.',\n",
              " 'Parties associated with the Accord aim to limit the future increase in global mean temperature to below 2 °C.',\n",
              " 'In 2015 all UN countries negotiated the Paris Agreement, which aims to keep climate change well below 2 °C.',\n",
              " 'The agreement replaced the Kyoto protocol.',\n",
              " 'Unlike Kyoto, no binding emission targets are set in the Paris agreement.',\n",
              " 'Instead, the procedure of regularly setting ever more ambitious goals and reevaluating these goals every five years has been made binding.',\n",
              " 'The Paris agreement reiterated that developing countries must be financially supported.',\n",
              " 'In the scientific literature, there is an overwhelming consensus that global surface temperatures have increased in recent decades and that the trend is caused mainly by human-induced emissions of greenhouse gases.',\n",
              " 'No scientific body of national or international standing disagrees with this view.',\n",
              " 'Scientific discussion takes place in journal articles that are peer-reviewed, which scientists subject to assessment every couple of years in the Intergovernmental Panel on Climate Change reports.',\n",
              " 'The scientific consensus as of 2013[update] stated in the IPCC Fifth Assessment Report is that it \"is extremely likely that human influence has been the dominant cause of the observed warming since the mid-20th century\".',\n",
              " 'National science academies have called on world leaders for policies to cut global emissions.',\n",
              " 'In November 2017, a second warning to humanity signed by 15,364 scientists from 184 countries stated that \"the current trajectory of potentially catastrophic climate change due to rising greenhouse gases from burning fossil fuels, deforestation, and agricultural production – particularly from farming ruminants for meat consumption\" is \"especially troubling\".',\n",
              " 'In 2018 the IPCC published a Special Report on Global Warming of 1.5 °C which warned that, if the current rate of greenhouse gas emissions is not mitigated, global warming is likely to reach 1.5 °C (2.7 °F) between 2030 and 2052 risking major crises.',\n",
              " 'The report said that preventing such crises will require a swift transformation of the global economy that has \"no documented historic precedent\".',\n",
              " 'In the 20th century and early 2000s some companies, such as ExxonMobil, challenged IPCC climate change scenarios, funded scientists who disagreed with the scientific consensus, and provided their own projections of the economic cost of stricter controls.',\n",
              " 'In general, since the 2010s, global oil companies do not dispute that climate change exists and is caused by the burning of fossil fuels.',\n",
              " 'As of 2019[update], however, some are lobbying against a carbon tax and plan to increase production of oil and gas but others are in favour of a carbon tax in exchange for immunity from lawsuits which seek climate change compensation.',\n",
              " 'The global warming problem came to international public attention in the late 1980s and polling groups began to track opinions on the subject.',\n",
              " 'The longest consistent polling, by Gallup in the US, found relatively small deviations of 10% or so from 1998 to 2015 in opinion on the seriousness of global warming, but with increasing polarization between those concerned and those unconcerned.',\n",
              " 'By 2010 in the US, just a little over half the population (53%) viewed it as a serious concern for either themselves or their families.',\n",
              " 'Latin America and developed Asia saw themselves most at risk at 73% and 74%.',\n",
              " 'In the assessed 111 countries, people were more likely to attribute global warming to human activities than to natural causes, except in the US where nearly half (47%) of the population attributed global warming to natural causes.',\n",
              " 'Public reactions to global warming and concern about its effects have been increasing, while many perceiving it as the worst global threat.',\n",
              " 'A 2015 global survey showed that a median of 54% of respondents consider it \"a very serious problem\", with significant regional differences: Americans and Chinese (whose economies are responsible for the greatest annual CO2 emissions) are among the least concerned.',\n",
              " 'From about 1990 onward, American conservative think tanks had begun challenging the legitimacy of global warming as a social problem.',\n",
              " 'They challenged the scientific evidence, argued that global warming would have benefits, and asserted that proposed solutions would do more harm than good.',\n",
              " 'Organizations such as the libertarian Competitive Enterprise Institute, conservative commentators have challenged IPCC climate change scenarios, funded scientists who disagree with the scientific consensus, and provided their own projections of the economic cost of stricter controls.',\n",
              " 'Global warming has been the subject of controversy, substantially more pronounced in the popular media than in the scientific literature, with disputes regarding the nature, causes, and consequences of global warming.',\n",
              " 'The disputed issues include the causes of increased global average air temperature, especially since the mid-20th century, whether this warming trend is unprecedented or within normal climatic variations, whether humankind has contributed significantly to it, and whether the increase is completely or partially an artifact of poor measurements.',\n",
              " 'Additional disputes concern estimates of climate sensitivity, predictions of additional warming, what the consequences of global warming will be, and what to do about it.',\n",
              " 'Due to confusing media coverage in the early 1990s, issues such as ozone depletion and climate change were often mixed up, affecting public understanding of these issues.',\n",
              " 'According to a 2010 survey of Americans, a majority thought that the ozone layer and spray cans contribute to global warming.',\n",
              " 'Although there are a few areas of linkage, the relationship between the two is not strong.',\n",
              " 'Reduced stratospheric ozone has had a slight cooling influence on surface temperatures, while increased tropospheric ozone has had a somewhat larger warming effect.',\n",
              " '[needs update] However, chemicals causing ozone depletion are also powerful greenhouse gases, and as such the Montreal protocol against their emissions may have done more than any other measure to mitigate climate change.',\n",
              " 'In a response to perceived inaction on climate change, a climate movement is protesting in various ways, such as fossil fuel divestment, worldwide demonstrations and the school strike for climate.',\n",
              " 'The history of climate change science began in the early 19th century when ice ages and other natural changes in paleoclimate were first suspected and the natural greenhouse effect first identified.',\n",
              " 'In the late 19th century, scientists first argued that human emissions of greenhouse gases could change the climate.',\n",
              " 'In the 1960s, the warming effect of carbon dioxide gas became increasingly convincing.',\n",
              " 'By the 1990s, as a result of improving fidelity of computer models and observational work confirming the Milankovitch theory of the ice ages, a consensus position formed: greenhouse gases were deeply involved in most climate changes, and human-caused emissions were bringing discernible global warming.',\n",
              " 'Since then, scientific research on climate change has expanded.',\n",
              " \"The Intergovernmental Panel on Climate Change, set up in the 1990s to provide formal advice the world's governments, spurred unprecedented levels of exchange between different scientific disciplines.\",\n",
              " 'The greenhouse effect was proposed by Joseph Fourier in 1824, discovered in 1856 by Eunice Newton Foote, expanded upon by John Tyndall, investigated quantitatively by Svante Arrhenius in 1896, and the hypothesis was reported in the popular press as early as 1912.',\n",
              " 'The scientific description of global warming was further developed in the 1930s through the 1960s by Guy Stewart Callendar.',\n",
              " 'Research in the 1950s suggested increasing temperatures, and a 1952 newspaper reported \"climate change\".',\n",
              " 'This phrase next appeared in a November 1957 report in The Hammond Times which described Roger Revelle\\'s research into the effects of increasing human-caused CO2 emissions on the greenhouse effect \"a large scale global warming, with radical climate changes may result\".',\n",
              " 'A 1971 MIT report, referred to the human impact as \"inadvertent climate modification\", identifying many possible causes.',\n",
              " 'Both the terms global warming and climate change were used only occasionally until 1975, when Wallace Smith Broecker published a scientific paper on the topic, \"Climatic Change: Are We on the Brink of a Pronounced Global Warming?\"',\n",
              " 'The phrase began to come into common use, and in 1976 Mikhail Budyko\\'s statement that \"a global warming up has started\" was widely reported.',\n",
              " 'An influential 1979 National Academy of Sciences study headed by Jule Charney followed Broecker in using global warming to refer to rising surface temperatures, while describing the wider effects of increased CO2 as climate change.',\n",
              " 'There were increasing heatwaves and drought problems in the summer of 1988, and when NASA climate scientist James Hansen gave testimony in the U.S. Senate, it sparked worldwide interest.',\n",
              " 'He said \"global warming has reached a level such that we can ascribe with a high degree of confidence a cause and effect relationship between the greenhouse effect and the observed warming\".',\n",
              " 'Public attention increased over the summer, and global warming became the dominant popular term, commonly used both by the press and in public discourse.',\n",
              " 'In the 2000s, the term climate change increased in popularity.',\n",
              " 'People who regard climate change as catastrophic, irreversible or rapid might label climate change as a climate crisis or a climate emergency.',\n",
              " 'Some major newspapers, such as The Guardian, have taken up the use of this terminology, as well as the term global heating, in order to emphasize its seriousness and urgency.',\n",
              " 'Since 2016, some city councils have issued climate emergency declarations.',\n",
              " 'In 2019, the British Parliament became the first national government in the world to officially declare a climate emergency.',\n",
              " 'This section is being reorganized; many sources are not yet where they belong, and at times maybe out of order.',\n",
              " 'Past IPCC reports are available at https://archive.ipcc.ch/.',\n",
              " 'TAR Working Group I Report TAR Working Group II Report TAR Working Group III Report AR4 Working Group I Report AR4 Working Group II Report AR4 Working Group III Report AR4 Synthesis Report AR5 Working Group I Report AR5 Working Group II Report AR5 Working Group III Report AR5 Synthesis Report Special Report: SRES Special Report: SREX Special Report: SR15 Editors: \"o\" marks citations to be deleted pending verification that any short-cites link to the replacement citation (above).',\n",
              " 'Anything linking to these citations should be immediately revised to link to replacement citaiton.']"
            ]
          },
          "metadata": {
            "tags": []
          },
          "execution_count": 16
        }
      ]
    },
    {
      "cell_type": "code",
      "metadata": {
        "id": "vngltkbvYHCb",
        "colab_type": "code",
        "colab": {}
      },
      "source": [
        "# Stopword list\n",
        "stop_words = nltk.corpus.stopwords.words('english')"
      ],
      "execution_count": 0,
      "outputs": []
    },
    {
      "cell_type": "code",
      "metadata": {
        "id": "qWUUavI7r1KX",
        "colab_type": "code",
        "colab": {}
      },
      "source": [
        "# Word counts \n",
        "word2count = {}\n",
        "for word in nltk.word_tokenize(clean_text):\n",
        "    if word not in stop_words:\n",
        "        if word not in word2count.keys():\n",
        "            word2count[word] = 1\n",
        "        else:\n",
        "            word2count[word] += 1\n",
        "\n"
      ],
      "execution_count": 0,
      "outputs": []
    },
    {
      "cell_type": "code",
      "metadata": {
        "id": "JKPKPUNqYj0l",
        "colab_type": "code",
        "colab": {}
      },
      "source": [
        "# Converting counts to weights\n",
        "max_count = max(word2count.values())\n",
        "for key in word2count.keys():\n",
        "    word2count[key] = word2count[key]/max_count"
      ],
      "execution_count": 0,
      "outputs": []
    },
    {
      "cell_type": "code",
      "metadata": {
        "id": "_V4-iIchr6Ff",
        "colab_type": "code",
        "colab": {}
      },
      "source": [
        "# Product sentence scores    \n",
        "sent2score = {}\n",
        "for sentence in sentences:\n",
        "    for word in nltk.word_tokenize(sentence.lower()):\n",
        "        if word in word2count.keys():\n",
        "            if len(sentence.split(' ')) < 25:\n",
        "                if sentence not in sent2score.keys():\n",
        "                    sent2score[sentence] = word2count[word]\n",
        "                else:\n",
        "                    sent2score[sentence] += word2count[word]\n"
      ],
      "execution_count": 0,
      "outputs": []
    },
    {
      "cell_type": "code",
      "metadata": {
        "id": "qAMmqlPbr_pX",
        "colab_type": "code",
        "outputId": "40fe139f-6a38-4769-a02e-fef264692bda",
        "colab": {
          "base_uri": "https://localhost:8080/",
          "height": 119
        }
      },
      "source": [
        "import heapq\n",
        "# Gettings best 5 lines             \n",
        "best_sentences = heapq.nlargest(5, sent2score, key=sent2score.get)\n",
        "print('---------------------------------------------------------')\n",
        "for sentence in best_sentences:\n",
        "    print(sentence)\n"
      ],
      "execution_count": 0,
      "outputs": [
        {
          "output_type": "stream",
          "text": [
            "---------------------------------------------------------\n",
            "Abrupt climate change, tipping points in the climate system: Climate change could result in global, large-scale changes.\n",
            "People who regard climate change as catastrophic, irreversible or rapid might label climate change as a climate crisis or a climate emergency.\n",
            "Examples of abrupt climate change are the rapid release of methane and carbon dioxide from permafrost, which would lead to amplified global warming.\n",
            "Possible societal responses to global warming include mitigation by emissions reduction, adaptation to its effects, and possible future climate engineering.\n",
            "Mitigation of and adaptation to climate change are two complementary responses to global warming.\n"
          ],
          "name": "stdout"
        }
      ]
    }
  ]
}